{
 "cells": [
  {
   "cell_type": "markdown",
   "metadata": {},
   "source": [
    "## 1. Craps\n",
    "This is a game played with two dice. You decibe to play. Each bet is one chip. The goal is to roll a seven (with two dice). The house pays 4 chips plus your original chip if you win. Is this fair? (If not, define fair)."
   ]
  },
  {
   "cell_type": "markdown",
   "metadata": {},
   "source": [
    "First let's look at probability we win\n",
    "\n",
    "There are 36 possible outcomes from rolling 2 dice (6 X 6 = 36)\n",
    "\n",
    "There are 6 combinations that can result in 7 (1,6), (2,5), (3,4), (4,3), (5,2), (6,1)\n",
    "\n",
    "Therefore odd of rolling a 7 with two dice is 6/36 = 1/6\n",
    "\n",
    "The probability of not winning is therefore 5/6\n",
    "\n",
    "To determine the expected pay we can use the formula:\n",
    "\n",
    "**E = (P(win) X payout for win) + (P(lose) X payout for lose)**"
   ]
  },
  {
   "cell_type": "code",
   "execution_count": 4,
   "metadata": {},
   "outputs": [
    {
     "name": "stdout",
     "output_type": "stream",
     "text": [
      "0.0\n"
     ]
    }
   ],
   "source": [
    "E = ((1/6)*5)+((5/6)*-1)\n",
    "print(abs(round(E, 2)))"
   ]
  },
  {
   "cell_type": "markdown",
   "metadata": {},
   "source": [
    "Since the expected payout is 0 you neither gain nor lose on average. This also suggest that the game is **fair** since the house does not have a mathematical advantage on you."
   ]
  },
  {
   "cell_type": "markdown",
   "metadata": {},
   "source": [
    "## 9. Rolling three sums that are not prime\n",
    "\n",
    "You roll three dice. What is the probability that the sum of the three numbers is not a prime number? How can you verify this answer?"
   ]
  },
  {
   "cell_type": "code",
   "execution_count": 7,
   "metadata": {},
   "outputs": [
    {
     "name": "stdout",
     "output_type": "stream",
     "text": [
      "[3, 4, 5, 6, 7, 8, 4, 5, 6, 7, 8, 9, 5, 6, 7, 8, 9, 10, 6, 7, 8, 9, 10, 11, 7, 8, 9, 10, 11, 12, 8, 9, 10, 11, 12, 13, 4, 5, 6, 7, 8, 9, 5, 6, 7, 8, 9, 10, 6, 7, 8, 9, 10, 11, 7, 8, 9, 10, 11, 12, 8, 9, 10, 11, 12, 13, 9, 10, 11, 12, 13, 14, 5, 6, 7, 8, 9, 10, 6, 7, 8, 9, 10, 11, 7, 8, 9, 10, 11, 12, 8, 9, 10, 11, 12, 13, 9, 10, 11, 12, 13, 14, 10, 11, 12, 13, 14, 15, 6, 7, 8, 9, 10, 11, 7, 8, 9, 10, 11, 12, 8, 9, 10, 11, 12, 13, 9, 10, 11, 12, 13, 14, 10, 11, 12, 13, 14, 15, 11, 12, 13, 14, 15, 16, 7, 8, 9, 10, 11, 12, 8, 9, 10, 11, 12, 13, 9, 10, 11, 12, 13, 14, 10, 11, 12, 13, 14, 15, 11, 12, 13, 14, 15, 16, 12, 13, 14, 15, 16, 17, 8, 9, 10, 11, 12, 13, 9, 10, 11, 12, 13, 14, 10, 11, 12, 13, 14, 15, 11, 12, 13, 14, 15, 16, 12, 13, 14, 15, 16, 17, 13, 14, 15, 16, 17, 18]\n",
      "Probability that the sum is not a prime number: 0.6620\n"
     ]
    }
   ],
   "source": [
    "from itertools import product\n",
    "from sympy import isprime\n",
    "\n",
    "# Generate all possible sums of three dice rolls\n",
    "sums = [sum(roll) for roll in product(range(1, 7), repeat=3)]\n",
    "\n",
    "# Identify prime sums\n",
    "prime_sums = [s for s in sums if isprime(s)]\n",
    "\n",
    "# Calculate the probability\n",
    "total_rolls = len(sums)\n",
    "non_prime_rolls = total_rolls - len(prime_sums)\n",
    "probability_non_prime = non_prime_rolls / total_rolls\n",
    "\n",
    "print(f\"Probability that the sum is not a prime number: {probability_non_prime:.4f}\")"
   ]
  },
  {
   "cell_type": "markdown",
   "metadata": {},
   "source": [
    "As seen from the above calculated result, the probabiliyt of getting a non-prime number is **66.2%**"
   ]
  },
  {
   "cell_type": "markdown",
   "metadata": {},
   "source": [
    "## Locker Problem\n",
    "A school’s lockers are numbered 1 to 100. One hundred students\n",
    "enter the school one at a time. The first student opens the lockers.\n",
    "The second student closes the even numbered lockers. The third\n",
    "student either closes or opens every third locker. The remaining\n",
    "students continue the pattern. Write a program to determine\n",
    "which lockers remain open at the end, after the last one of the\n",
    "students passes. Explain the result. Make sure the program not\n",
    "only reports the situation at the end but also conveys the stages\n",
    "through which the array of lockers passes."
   ]
  },
  {
   "cell_type": "code",
   "execution_count": 14,
   "metadata": {},
   "outputs": [
    {
     "name": "stdout",
     "output_type": "stream",
     "text": [
      "Lockers that remain open: [1, 4, 9, 16, 25, 36, 49, 64, 81, 100]\n"
     ]
    }
   ],
   "source": [
    "def toggle_lockers():\n",
    "    # Initialize lockers: False means closed, True means open\n",
    "    lockers = [False] * 100\n",
    "\n",
    "    # Iterate through each student\n",
    "    for student in range(1, 101):\n",
    "        for locker in range(student - 1, 100, student):\n",
    "            lockers[locker] = not lockers[locker]\n",
    "\n",
    "    # Determine which lockers remain open\n",
    "    open_lockers = [i + 1 for i, locker in enumerate(lockers) if locker]\n",
    "    print(f\"Lockers that remain open: {open_lockers}\")\n",
    "\n",
    "toggle_lockers()"
   ]
  },
  {
   "cell_type": "markdown",
   "metadata": {},
   "source": [
    "As we can see from the results, **the lockers that remain open are perfect squares from 1 – 100**"
   ]
  },
  {
   "cell_type": "markdown",
   "metadata": {},
   "source": [
    "## Coin Flip Streaks\n",
    "\n",
    "Write a program to find out how often a streak of six heads or a streak\n",
    "of six tails comes up in a randomly generated list of heads and tails. Your\n",
    "program breaks up the experiment into two parts: the first part generates\n",
    "a list of randomly selected 'heads' and 'tails' values, and the second part\n",
    "checks if there is a streak in it. Put all of this code in a loop that repeats the experiment 10,000 times so we can find out what percentage of the coin flips contains a streak of six heads or tails in a row. As a hint, the function call random.randint(0, 1) will return a 0 value 50% of the time and a 1 value the other 50% of the time."
   ]
  },
  {
   "cell_type": "code",
   "execution_count": 16,
   "metadata": {},
   "outputs": [
    {
     "name": "stdout",
     "output_type": "stream",
     "text": [
      "Percentage of coin flips with a streak of 6 heads or tails: 80.45%\n"
     ]
    }
   ],
   "source": [
    "import random\n",
    "\n",
    "def generate_coin_flips(num_flips):\n",
    "    coin_flips = []\n",
    "    for _ in range(num_flips):\n",
    "        flip = random.randint(0, 1)\n",
    "        if flip == 0:\n",
    "            coin_flips.append('heads')\n",
    "        else:\n",
    "            coin_flips.append('tails')\n",
    "    return coin_flips\n",
    "\n",
    "num_experiments = 10000\n",
    "streak_length = 6\n",
    "streak_count = 0\n",
    "\n",
    "for _ in range(num_experiments):\n",
    "    coin_flips = generate_coin_flips(100)  \n",
    "    current_streak = 1\n",
    "    \n",
    "    for i in range(1, len(coin_flips)):\n",
    "        if coin_flips[i] == coin_flips[i - 1]:\n",
    "            current_streak += 1\n",
    "        else:\n",
    "            current_streak = 1\n",
    "        \n",
    "        if current_streak == streak_length:\n",
    "            streak_count += 1\n",
    "            break  \n",
    "percentage = (streak_count / num_experiments) * 100\n",
    "print(f\"Percentage of coin flips with a streak of {streak_length} heads or tails: {percentage:.2f}%\")\n"
   ]
  },
  {
   "cell_type": "markdown",
   "metadata": {},
   "source": [
    "**The percenatge of getting 6 heads or tails in a row is 80.45%**"
   ]
  },
  {
   "cell_type": "markdown",
   "metadata": {},
   "source": [
    "## 1. First Problem"
   ]
  },
  {
   "cell_type": "code",
   "execution_count": 17,
   "metadata": {},
   "outputs": [
    {
     "name": "stdout",
     "output_type": "stream",
     "text": [
      "3 + 5i\n",
      "-4 + 7i\n"
     ]
    }
   ],
   "source": [
    "class Complex:\n",
    "    def __init__(self, real, imag):\n",
    "        self.real = real\n",
    "        self.imag = imag\n",
    "\n",
    "    def __add__(self, other):\n",
    "        return Complex(self.real + other.real, self.imag + other.imag)\n",
    "\n",
    "    def __mul__(self, other):\n",
    "        real_part = self.real * other.real - self.imag * other.imag\n",
    "        imag_part = self.real * other.imag + self.imag * other.real\n",
    "        return Complex(real_part, imag_part)\n",
    "\n",
    "    def __str__(self):\n",
    "        return f\"{self.real} + {self.imag}i\"\n",
    "    \n",
    "c1 = Complex(1, 2)\n",
    "c2 = Complex(2, 3)\n",
    "\n",
    "print(c1 + c2)\n",
    "\n",
    "print(c1 * c2)"
   ]
  },
  {
   "cell_type": "markdown",
   "metadata": {},
   "source": [
    "## 2. Second Problem"
   ]
  },
  {
   "cell_type": "code",
   "execution_count": 18,
   "metadata": {},
   "outputs": [
    {
     "name": "stdout",
     "output_type": "stream",
     "text": [
      "My name is Bob and I am a Creature.\n",
      "My name is Fido and I am a Dog: woof.\n",
      "My name is Betsy and I am a Cow: moo.\n"
     ]
    }
   ],
   "source": [
    "class Creature:\n",
    "    def __init__(self, name):\n",
    "        self.name = name\n",
    "    \n",
    "    def speak(self):\n",
    "        print(f\"My name is {self.name} and I am a Creature.\")\n",
    "\n",
    "class Dog(Creature):\n",
    "    def speak(self):\n",
    "        print(f\"My name is {self.name} and I am a Dog: woof.\")\n",
    "\n",
    "class Cow(Creature):\n",
    "    def speak(self):\n",
    "        print(f\"My name is {self.name} and I am a Cow: moo.\")\n",
    "\n",
    "creature = Creature(\"Bob\")\n",
    "dog = Dog(\"Fido\")\n",
    "cow = Cow(\"Betsy\")\n",
    "\n",
    "creature.speak()\n",
    "dog.speak()\n",
    "cow.speak()"
   ]
  }
 ],
 "metadata": {
  "kernelspec": {
   "display_name": "base",
   "language": "python",
   "name": "python3"
  },
  "language_info": {
   "codemirror_mode": {
    "name": "ipython",
    "version": 3
   },
   "file_extension": ".py",
   "mimetype": "text/x-python",
   "name": "python",
   "nbconvert_exporter": "python",
   "pygments_lexer": "ipython3",
   "version": "3.12.2"
  }
 },
 "nbformat": 4,
 "nbformat_minor": 2
}
