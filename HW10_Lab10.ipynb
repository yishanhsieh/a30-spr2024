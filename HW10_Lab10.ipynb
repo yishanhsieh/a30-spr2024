{
  "nbformat": 4,
  "nbformat_minor": 0,
  "metadata": {
    "colab": {
      "provenance": [],
      "include_colab_link": true
    },
    "kernelspec": {
      "name": "python3",
      "display_name": "Python 3"
    },
    "language_info": {
      "name": "python"
    }
  },
  "cells": [
    {
      "cell_type": "markdown",
      "metadata": {
        "id": "view-in-github",
        "colab_type": "text"
      },
      "source": [
        "<a href=\"https://colab.research.google.com/github/yishanhsieh/a30-spr2024/blob/main/HW10_Lab10.ipynb\" target=\"_parent\"><img src=\"https://colab.research.google.com/assets/colab-badge.svg\" alt=\"Open In Colab\"/></a>"
      ]
    },
    {
      "cell_type": "markdown",
      "source": [
        "## **Homework 10**\n",
        "### (Chapter 08 Web Scraping from DIDS)"
      ],
      "metadata": {
        "id": "8o4-mlv9g41P"
      }
    },
    {
      "cell_type": "code",
      "execution_count": null,
      "metadata": {
        "colab": {
          "base_uri": "https://localhost:8080/"
        },
        "id": "JykZIwMYersq",
        "outputId": "a5c6fa9f-e16d-46e5-9f23-5f3d8e1a21ec"
      },
      "outputs": [
        {
          "output_type": "stream",
          "name": "stdout",
          "text": [
            "<?xml version=\"1.0\" encoding=\"utf-8\"?>\n",
            "<!DOCTYPE html PUBLIC \"-//W3C//DTD XHTML 1.0 Strict//EN\" \"http://www.w3.org/TR/xhtml1/DTD/xhtml1-strict.dtd\">\n",
            "<html xmlns=\"http://www.w3.org/1999/xhtml\" xml:lang=\"en-US\" lang=\"en-US\">\n",
            "  <head><meta http-equiv=\"Content-Type\" content=\"text/html; charset=utf-8\">\n",
            "\n",
            "    <title>Bradford Tuckfield</title>\n",
            "    <meta name=\"description\" content=\"Bradford Tuckfield\" />\n",
            "    <meta name=\"keywords\" content=\"Bradford Tuckfield\" />\n",
            "    <meta name=\"google-site-verification\" content=\"eNw-LEFxVf71e-ZlYnv5tGSxTZ7V32coMCV9bxS3MGY\" />\n",
            "<link rel=\"stylesheet\" type=\"text/css\" href=\n"
          ]
        }
      ],
      "source": [
        "#Creating Your First Web Scraper\n",
        "\n",
        "import requests\n",
        "urltoget = 'https://bradfordtuckfield.com/indexarchive20210903.html'\n",
        "pagecode = requests.get(urltoget)\n",
        "print(pagecode.text[0:600])"
      ]
    },
    {
      "cell_type": "code",
      "source": [
        "#Parsing HTML Code\n",
        "\n",
        "urltoget = 'https://bradfordtuckfield.com/contactscrape.html'\n",
        "pagecode = requests.get(urltoget)\n",
        "mail_beginning=pagecode.text.find('Email:')\n",
        "print(mail_beginning)\n",
        "print(\"\\n\")\n",
        "print(pagecode.text[(mail_beginning):(mail_beginning+80)])\n",
        "print(\"\\n\")\n",
        "print(pagecode.text[(mail_beginning+38):(mail_beginning+64)])"
      ],
      "metadata": {
        "colab": {
          "base_uri": "https://localhost:8080/"
        },
        "id": "Zbnj9VPJmiFY",
        "outputId": "7a904f76-55f2-4f15-f4ea-78c73c62d472"
      },
      "execution_count": null,
      "outputs": [
        {
          "output_type": "stream",
          "name": "stdout",
          "text": [
            "511\n",
            "\n",
            "\n",
            "Email:  <label class=\"email\" href=\"#\">demo@bradfordtuckfield.com</label>\r\n",
            "</div>\n",
            "\n",
            "\n",
            "demo@bradfordtuckfield.com\n"
          ]
        }
      ]
    },
    {
      "cell_type": "code",
      "source": [
        "#Searching for Addresses Directly\n",
        "\n",
        "urltoget = 'https://bradfordtuckfield.com/contactscrape.html'\n",
        "pagecode = requests.get(urltoget)\n",
        "at_beginning=pagecode.text.find('@')\n",
        "print(at_beginning)\n",
        "\n",
        "print(pagecode.text[(at_beginning-4):(at_beginning+22)])"
      ],
      "metadata": {
        "colab": {
          "base_uri": "https://localhost:8080/"
        },
        "id": "_ZH0hxAiptSx",
        "outputId": "6b58ddc3-40e4-4941-dbc8-49bc0fe10ec0"
      },
      "execution_count": null,
      "outputs": [
        {
          "output_type": "stream",
          "name": "stdout",
          "text": [
            "553\n",
            "demo@bradfordtuckfield.com\n"
          ]
        }
      ]
    },
    {
      "cell_type": "code",
      "source": [
        "#Performing Searches with Regular Expressions\n",
        "\n",
        "import re\n",
        "print(re.search(r'recommend','irrelevant text I recommend irrelevant text').span())"
      ],
      "metadata": {
        "colab": {
          "base_uri": "https://localhost:8080/"
        },
        "id": "CVvMm_Svs6e8",
        "outputId": "7ef8b55d-c5a0-47c0-8ddd-fb99c69518ce"
      },
      "execution_count": null,
      "outputs": [
        {
          "output_type": "stream",
          "name": "stdout",
          "text": [
            "(18, 27)\n"
          ]
        }
      ]
    },
    {
      "cell_type": "markdown",
      "source": [
        "**The + metacharacter searches for one or more repetitions of the pre-\n",
        "ceding character**"
      ],
      "metadata": {
        "id": "MX4gEwEQv6NB"
      }
    },
    {
      "cell_type": "code",
      "source": [
        "import re\n",
        "print(re.search('rec+om+end','irrelevant text I recomend irrelevant text').span())\n",
        "print(re.search('rec+om+end','irrelevant text I reccommend irrelevant text').span())\n",
        "print(re.search('rec+om+end','irrelevant text I reommend irrelevant text').span())\n",
        "print(re.search('rec+om+end','irrelevant text I recomment irrelevant text').span())"
      ],
      "metadata": {
        "colab": {
          "base_uri": "https://localhost:8080/",
          "height": 320
        },
        "id": "6WhHz9F5tb0b",
        "outputId": "da2c7a3a-21c8-4b1b-8744-87ecfb711044"
      },
      "execution_count": null,
      "outputs": [
        {
          "output_type": "stream",
          "name": "stdout",
          "text": [
            "(18, 26)\n",
            "(18, 28)\n"
          ]
        },
        {
          "output_type": "error",
          "ename": "AttributeError",
          "evalue": "'NoneType' object has no attribute 'span'",
          "traceback": [
            "\u001b[0;31m---------------------------------------------------------------------------\u001b[0m",
            "\u001b[0;31mAttributeError\u001b[0m                            Traceback (most recent call last)",
            "\u001b[0;32m<ipython-input-10-ce8e45a61b0d>\u001b[0m in \u001b[0;36m<cell line: 4>\u001b[0;34m()\u001b[0m\n\u001b[1;32m      2\u001b[0m \u001b[0mprint\u001b[0m\u001b[0;34m(\u001b[0m\u001b[0mre\u001b[0m\u001b[0;34m.\u001b[0m\u001b[0msearch\u001b[0m\u001b[0;34m(\u001b[0m\u001b[0;34m'rec+om+end'\u001b[0m\u001b[0;34m,\u001b[0m\u001b[0;34m'irrelevant text I recomend irrelevant text'\u001b[0m\u001b[0;34m)\u001b[0m\u001b[0;34m.\u001b[0m\u001b[0mspan\u001b[0m\u001b[0;34m(\u001b[0m\u001b[0;34m)\u001b[0m\u001b[0;34m)\u001b[0m\u001b[0;34m\u001b[0m\u001b[0;34m\u001b[0m\u001b[0m\n\u001b[1;32m      3\u001b[0m \u001b[0mprint\u001b[0m\u001b[0;34m(\u001b[0m\u001b[0mre\u001b[0m\u001b[0;34m.\u001b[0m\u001b[0msearch\u001b[0m\u001b[0;34m(\u001b[0m\u001b[0;34m'rec+om+end'\u001b[0m\u001b[0;34m,\u001b[0m\u001b[0;34m'irrelevant text I reccommend irrelevant text'\u001b[0m\u001b[0;34m)\u001b[0m\u001b[0;34m.\u001b[0m\u001b[0mspan\u001b[0m\u001b[0;34m(\u001b[0m\u001b[0;34m)\u001b[0m\u001b[0;34m)\u001b[0m\u001b[0;34m\u001b[0m\u001b[0;34m\u001b[0m\u001b[0m\n\u001b[0;32m----> 4\u001b[0;31m \u001b[0mprint\u001b[0m\u001b[0;34m(\u001b[0m\u001b[0mre\u001b[0m\u001b[0;34m.\u001b[0m\u001b[0msearch\u001b[0m\u001b[0;34m(\u001b[0m\u001b[0;34m'rec+om+end'\u001b[0m\u001b[0;34m,\u001b[0m\u001b[0;34m'irrelevant text I reommend irrelevant text'\u001b[0m\u001b[0;34m)\u001b[0m\u001b[0;34m.\u001b[0m\u001b[0mspan\u001b[0m\u001b[0;34m(\u001b[0m\u001b[0;34m)\u001b[0m\u001b[0;34m)\u001b[0m\u001b[0;34m\u001b[0m\u001b[0;34m\u001b[0m\u001b[0m\n\u001b[0m\u001b[1;32m      5\u001b[0m \u001b[0mprint\u001b[0m\u001b[0;34m(\u001b[0m\u001b[0mre\u001b[0m\u001b[0;34m.\u001b[0m\u001b[0msearch\u001b[0m\u001b[0;34m(\u001b[0m\u001b[0;34m'rec+om+end'\u001b[0m\u001b[0;34m,\u001b[0m\u001b[0;34m'irrelevant text I recomment irrelevant text'\u001b[0m\u001b[0;34m)\u001b[0m\u001b[0;34m.\u001b[0m\u001b[0mspan\u001b[0m\u001b[0;34m(\u001b[0m\u001b[0;34m)\u001b[0m\u001b[0;34m)\u001b[0m\u001b[0;34m\u001b[0m\u001b[0;34m\u001b[0m\u001b[0m\n",
            "\u001b[0;31mAttributeError\u001b[0m: 'NoneType' object has no attribute 'span'"
          ]
        }
      ]
    },
    {
      "cell_type": "markdown",
      "source": [
        "**The asterisk (*) specifies that the preceding\n",
        "character is repeated zero or more times.**"
      ],
      "metadata": {
        "id": "u8F4Z4aEwDku"
      }
    },
    {
      "cell_type": "code",
      "source": [
        "#Using Metacharacters for Flexible Searches\n",
        "\n",
        "re.search('10*','My bank balance is 100').span()"
      ],
      "metadata": {
        "colab": {
          "base_uri": "https://localhost:8080/"
        },
        "id": "m6lxEnE0t1Be",
        "outputId": "fd2b6943-c5ac-45cc-d4f5-af956bbdcbe8"
      },
      "execution_count": null,
      "outputs": [
        {
          "output_type": "execute_result",
          "data": {
            "text/plain": [
              "(19, 22)"
            ]
          },
          "metadata": {},
          "execution_count": 6
        }
      ]
    },
    {
      "cell_type": "code",
      "source": [
        "import re\n",
        "print(re.search('10*','My bank balance is 1').span())\n",
        "print(re.search('10*','My bank balance is 1000').span())\n",
        "print(re.search('10*','My bank balance is 1000000').span())\n",
        "print(re.search('10*','My bank balance is 9000').span())"
      ],
      "metadata": {
        "colab": {
          "base_uri": "https://localhost:8080/",
          "height": 244
        },
        "id": "oKGmI824vUsO",
        "outputId": "ec74f46f-72fb-4962-f8df-67261505d5fe"
      },
      "execution_count": null,
      "outputs": [
        {
          "output_type": "stream",
          "name": "stdout",
          "text": [
            "(19, 20)\n",
            "(19, 23)\n",
            "(19, 26)\n"
          ]
        },
        {
          "output_type": "error",
          "ename": "AttributeError",
          "evalue": "'NoneType' object has no attribute 'span'",
          "traceback": [
            "\u001b[0;31m---------------------------------------------------------------------------\u001b[0m",
            "\u001b[0;31mAttributeError\u001b[0m                            Traceback (most recent call last)",
            "\u001b[0;32m<ipython-input-7-4f08944d58c9>\u001b[0m in \u001b[0;36m<cell line: 5>\u001b[0;34m()\u001b[0m\n\u001b[1;32m      3\u001b[0m \u001b[0mprint\u001b[0m\u001b[0;34m(\u001b[0m\u001b[0mre\u001b[0m\u001b[0;34m.\u001b[0m\u001b[0msearch\u001b[0m\u001b[0;34m(\u001b[0m\u001b[0;34m'10*'\u001b[0m\u001b[0;34m,\u001b[0m\u001b[0;34m'My bank balance is 1000'\u001b[0m\u001b[0;34m)\u001b[0m\u001b[0;34m.\u001b[0m\u001b[0mspan\u001b[0m\u001b[0;34m(\u001b[0m\u001b[0;34m)\u001b[0m\u001b[0;34m)\u001b[0m\u001b[0;34m\u001b[0m\u001b[0;34m\u001b[0m\u001b[0m\n\u001b[1;32m      4\u001b[0m \u001b[0mprint\u001b[0m\u001b[0;34m(\u001b[0m\u001b[0mre\u001b[0m\u001b[0;34m.\u001b[0m\u001b[0msearch\u001b[0m\u001b[0;34m(\u001b[0m\u001b[0;34m'10*'\u001b[0m\u001b[0;34m,\u001b[0m\u001b[0;34m'My bank balance is 1000000'\u001b[0m\u001b[0;34m)\u001b[0m\u001b[0;34m.\u001b[0m\u001b[0mspan\u001b[0m\u001b[0;34m(\u001b[0m\u001b[0;34m)\u001b[0m\u001b[0;34m)\u001b[0m\u001b[0;34m\u001b[0m\u001b[0;34m\u001b[0m\u001b[0m\n\u001b[0;32m----> 5\u001b[0;31m \u001b[0mprint\u001b[0m\u001b[0;34m(\u001b[0m\u001b[0mre\u001b[0m\u001b[0;34m.\u001b[0m\u001b[0msearch\u001b[0m\u001b[0;34m(\u001b[0m\u001b[0;34m'10*'\u001b[0m\u001b[0;34m,\u001b[0m\u001b[0;34m'My bank balance is 9000'\u001b[0m\u001b[0;34m)\u001b[0m\u001b[0;34m.\u001b[0m\u001b[0mspan\u001b[0m\u001b[0;34m(\u001b[0m\u001b[0;34m)\u001b[0m\u001b[0;34m)\u001b[0m\u001b[0;34m\u001b[0m\u001b[0;34m\u001b[0m\u001b[0m\n\u001b[0m",
            "\u001b[0;31mAttributeError\u001b[0m: 'NoneType' object has no attribute 'span'"
          ]
        }
      ]
    },
    {
      "cell_type": "markdown",
      "source": [
        "**The ?, when used as a metacharacter, specifies that\n",
        "the preceding character appears either zero or one times**"
      ],
      "metadata": {
        "id": "pkuFivPIwJdL"
      }
    },
    {
      "cell_type": "code",
      "source": [
        "print(re.search('Clarke?','Please refer questions to Mr. Clark').span())"
      ],
      "metadata": {
        "colab": {
          "base_uri": "https://localhost:8080/"
        },
        "id": "E27su4bvvbmQ",
        "outputId": "3dfef57b-7aa1-41ab-fd90-6e1a7ea3fe2f"
      },
      "execution_count": null,
      "outputs": [
        {
          "output_type": "stream",
          "name": "stdout",
          "text": [
            "(30, 35)\n"
          ]
        }
      ]
    },
    {
      "cell_type": "code",
      "source": [
        "#Fine-Tuning Searches with Escape Sequences\n",
        "\n",
        "re.search('99+12=111','Example addition: 99+12=111').span()"
      ],
      "metadata": {
        "colab": {
          "base_uri": "https://localhost:8080/",
          "height": 188
        },
        "id": "7-mhd32ovn_z",
        "outputId": "79b592b2-43db-4e2f-9de5-31af1181d716"
      },
      "execution_count": null,
      "outputs": [
        {
          "output_type": "error",
          "ename": "AttributeError",
          "evalue": "'NoneType' object has no attribute 'span'",
          "traceback": [
            "\u001b[0;31m---------------------------------------------------------------------------\u001b[0m",
            "\u001b[0;31mAttributeError\u001b[0m                            Traceback (most recent call last)",
            "\u001b[0;32m<ipython-input-9-8e515f7d69e8>\u001b[0m in \u001b[0;36m<cell line: 3>\u001b[0;34m()\u001b[0m\n\u001b[1;32m      1\u001b[0m \u001b[0;31m#Fine-Tuning Searches with Escape Sequences\u001b[0m\u001b[0;34m\u001b[0m\u001b[0;34m\u001b[0m\u001b[0m\n\u001b[1;32m      2\u001b[0m \u001b[0;34m\u001b[0m\u001b[0m\n\u001b[0;32m----> 3\u001b[0;31m \u001b[0mre\u001b[0m\u001b[0;34m.\u001b[0m\u001b[0msearch\u001b[0m\u001b[0;34m(\u001b[0m\u001b[0;34m'99+12=111'\u001b[0m\u001b[0;34m,\u001b[0m\u001b[0;34m'Example addition: 99+12=111'\u001b[0m\u001b[0;34m)\u001b[0m\u001b[0;34m.\u001b[0m\u001b[0mspan\u001b[0m\u001b[0;34m(\u001b[0m\u001b[0;34m)\u001b[0m\u001b[0;34m\u001b[0m\u001b[0;34m\u001b[0m\u001b[0m\n\u001b[0m",
            "\u001b[0;31mAttributeError\u001b[0m: 'NoneType' object has no attribute 'span'"
          ]
        }
      ]
    },
    {
      "cell_type": "code",
      "source": [
        "re.search('99+12=111','Incorrect fact: 999912=111').span()"
      ],
      "metadata": {
        "id": "BF_IsC-HwljG"
      },
      "execution_count": null,
      "outputs": []
    },
    {
      "cell_type": "code",
      "source": [
        "re.search('99\\+12=111','Example addition: 99+12=111').span()"
      ],
      "metadata": {
        "id": "rzm17_r9wrMV"
      },
      "execution_count": null,
      "outputs": []
    },
    {
      "cell_type": "code",
      "source": [
        "re.search('Clarke\\?','Is anyone here named Clarke?').span()"
      ],
      "metadata": {
        "id": "mNLcWV_zw5Vg"
      },
      "execution_count": null,
      "outputs": []
    },
    {
      "cell_type": "code",
      "source": [
        "re.search(r'\\\\',r'The escape character is \\\\').span()"
      ],
      "metadata": {
        "id": "TCAkFYz0xMJh"
      },
      "execution_count": null,
      "outputs": []
    },
    {
      "cell_type": "code",
      "source": [
        "re.search('\\d','The loneliest number is 1').span()"
      ],
      "metadata": {
        "id": "BsLWd28CxZWE"
      },
      "execution_count": null,
      "outputs": []
    },
    {
      "cell_type": "markdown",
      "source": [
        "**\\D** Searches for anything that’s not a digit\n",
        "\n",
        "**\\s** Searches for whitespace (spaces, tabs, and newlines)\n",
        "\n",
        "**\\w** Searches for any alphabetic characters (letters, numbers, or\n",
        "underscores)"
      ],
      "metadata": {
        "id": "lnXOuPv4xz6i"
      }
    },
    {
      "cell_type": "code",
      "source": [
        "re.search('[a-z]','My Twitter is @fake; my email is abc@def.com').span()"
      ],
      "metadata": {
        "id": "jzZMx-0lxqco"
      },
      "execution_count": null,
      "outputs": []
    },
    {
      "cell_type": "code",
      "source": [
        "re.search('[A-Z]','My Twitter is @fake; my email is abc@def.com').span()"
      ],
      "metadata": {
        "id": "WA9ovaOEyI3o"
      },
      "execution_count": null,
      "outputs": []
    },
    {
      "cell_type": "code",
      "source": [
        "re.search('Manchac[a|k]','Lets drive on Manchaca.').span()"
      ],
      "metadata": {
        "id": "EarVZqdQyK83"
      },
      "execution_count": null,
      "outputs": []
    },
    {
      "cell_type": "code",
      "source": [
        "#Combining Metacharacters for Advanced Searches\n",
        "\n",
        "#    $ For the end of a line or string\n",
        "#    ^ For the beginning of a line or string\n",
        "#    . For a wildcard, meaning any character except the end of a line (\\n)\n",
        "\n",
        "re.search('school.*\\.pdf$','schoolforgottenname.pdf').span()"
      ],
      "metadata": {
        "id": "mJqHygqUyNbe"
      },
      "execution_count": null,
      "outputs": []
    },
    {
      "cell_type": "code",
      "source": [
        "import re\n",
        "print(re.search('school.*\\.pdf$','schoolforgottenname.pdf').span())\n",
        "print(re.search('school.*\\.pdf$','school.pdf').span())\n",
        "print(re.search('school.*\\.pdf$','schoolothername.pdf').span())\n",
        "print(re.search('school.*\\.pdf$','othername.pdf').span())\n",
        "print(re.search('school.*\\.pdf$','schoolothernamepdf').span())\n",
        "print(re.search('school.*\\.pdf$','schoolforgottenname.pdf.exe').span())"
      ],
      "metadata": {
        "id": "uy31vx9P0KCi"
      },
      "execution_count": null,
      "outputs": []
    },
    {
      "cell_type": "code",
      "source": [
        "#Using Regular Expressions to Search for Email Addresses\n",
        "\n",
        "re.search('[a-zA-Z]+@[a-zA-Z]+\\.[a-zA-Z]+',\\\n",
        "'My Twitter is @fake; my email is abc@def.com').span()"
      ],
      "metadata": {
        "id": "5K1AYume0Qlx"
      },
      "execution_count": null,
      "outputs": []
    },
    {
      "cell_type": "code",
      "source": [
        "#Converting Results to Usable Data\n",
        "\n",
        "import requests\n",
        "urltoget = 'https://bradfordtuckfield.com/contactscrape2.html'\n",
        "pagecode = requests.get(urltoget)\n",
        "\n",
        "allmatches=re.finditer('[a-zA-Z]+@[a-zA-Z]+\\.[a-zA-Z]+',pagecode.text)\n",
        "\n",
        "alladdresses = []\n",
        "for match in allmatches:\n",
        "  alladdresses.append(match[0])\n",
        "print(alladdresses)"
      ],
      "metadata": {
        "id": "nMwyW_Jt0d3x"
      },
      "execution_count": null,
      "outputs": []
    },
    {
      "cell_type": "code",
      "source": [
        "#We can also convert our list to a pandas dataframe:\n",
        "\n",
        "import pandas as pd\n",
        "alladdpd=pd.DataFrame(alladdresses)\n",
        "print(alladdpd)"
      ],
      "metadata": {
        "id": "qZjRRgaH0s4n"
      },
      "execution_count": null,
      "outputs": []
    },
    {
      "cell_type": "code",
      "source": [
        "#we can put it in reverse alphabetical order if that’s useful to us, and then export it to a .csv file:\n",
        "\n",
        "alladdpd=alladdpd.sort_values(0,ascending=False)\n",
        "alladdpd.to_csv('alladdpd20220720.csv')"
      ],
      "metadata": {
        "id": "_HJgkG6H0xeT"
      },
      "execution_count": null,
      "outputs": []
    },
    {
      "cell_type": "code",
      "source": [
        "#Using Beautiful Soup\n",
        "\n",
        "import requests\n",
        "from bs4 import BeautifulSoup\n",
        "\n",
        "URL = 'https://bradfordtuckfield.com/indexarchive20210903.html'\n",
        "response = requests.get(URL)\n",
        "soup = BeautifulSoup(response.text, 'lxml')\n",
        "\n",
        "all_urls = soup.find_all('a')\n",
        "for each in all_urls:\n",
        "  print(each['href'])"
      ],
      "metadata": {
        "id": "eu-YInxv1If5"
      },
      "execution_count": null,
      "outputs": []
    },
    {
      "cell_type": "code",
      "source": [
        "#Parsing HTML Label Elements\n",
        "\n",
        "import requests\n",
        "from bs4 import BeautifulSoup\n",
        "\n",
        "URL = 'https://bradfordtuckfield.com/contactscrape.html'\n",
        "response = requests.get(URL)\n",
        "soup = BeautifulSoup(response.text, 'lxml')\n",
        "\n",
        "email = soup.find('label',{'class':'email'}).text\n",
        "mobile = soup.find('label',{'class':'mobile'}).text\n",
        "website = soup.find('a',{'class':'website'}).text\n",
        "\n",
        "print(\"Email : {}\".format(email))\n",
        "print(\"Mobile : {}\".format(mobile))\n",
        "print(\"Website : {}\".format(website))"
      ],
      "metadata": {
        "id": "jRuuKvzD1qtO"
      },
      "execution_count": null,
      "outputs": []
    },
    {
      "cell_type": "code",
      "source": [
        "#Scraping and Parsing HTML Tables\n",
        "\n",
        "import requests\n",
        "from bs4 import BeautifulSoup\n",
        "\n",
        "URL = 'https://bradfordtuckfield.com/user_detailsscrape.html'\n",
        "response = requests.get(URL)\n",
        "soup = BeautifulSoup(response.text, 'lxml')\n",
        "\n",
        "all_user_entries = soup.find_all('tr',{'class':'user-details'})\n",
        "for each_user in all_user_entries:\n",
        "  user = each_user.find_all(\"td\")\n",
        "  print(\"User Firstname : {}, Lastname : {}, Age: {}\"\\\n",
        "  .format(user[0].text, user[1].text, user[2].text))"
      ],
      "metadata": {
        "id": "DzuA6TYm2H9w"
      },
      "execution_count": null,
      "outputs": []
    },
    {
      "cell_type": "code",
      "source": [],
      "metadata": {
        "id": "Pv4D73-F3Ea1"
      },
      "execution_count": null,
      "outputs": []
    },
    {
      "cell_type": "code",
      "source": [],
      "metadata": {
        "id": "UwVJvLvJ3S-E"
      },
      "execution_count": null,
      "outputs": []
    },
    {
      "cell_type": "code",
      "source": [],
      "metadata": {
        "id": "ZsC1nZyb3TCs"
      },
      "execution_count": null,
      "outputs": []
    },
    {
      "cell_type": "markdown",
      "source": [
        "## **Lab 10**\n",
        "### (Chapter 9 Recommendation Systems from DIDS)"
      ],
      "metadata": {
        "id": "qF58LDhg3Trn"
      }
    },
    {
      "cell_type": "code",
      "source": [
        "#Popularity-Based Recommendations\n",
        "\n",
        "import pandas as pd\n",
        "import numpy as np\n",
        "import warnings\n",
        "# Settings the warnings to be ignored\n",
        "warnings.filterwarnings('ignore')\n",
        "\n",
        "interaction=pd.read_csv('https://bradfordtuckfield.com/purchasehistory1.csv')\n",
        "interaction.set_index(\"Unnamed: 0\", inplace = True)\n",
        "print(interaction)"
      ],
      "metadata": {
        "id": "arGJx9yv3dxV"
      },
      "execution_count": null,
      "outputs": []
    },
    {
      "cell_type": "code",
      "source": [
        "interaction_withcounts=interaction.copy()\n",
        "interaction_withcounts.loc[:,'counts']=interaction_withcounts.sum(axis=1)\n",
        "interaction_withcounts=interaction_withcounts.sort_values(by='counts',ascending=False)\n",
        "print(list(interaction_withcounts.index))"
      ],
      "metadata": {
        "id": "fPtkNCNr5Kyf"
      },
      "execution_count": null,
      "outputs": []
    },
    {
      "cell_type": "code",
      "source": [
        "# We can create a function that generates popularity-based recommendations for any interaction matrix by putting together all of our code so far:\n",
        "\n",
        "def popularity_based(interaction):\n",
        "  interaction_withcounts=interaction.copy()\n",
        "  interaction_withcounts.loc[:,'counts']=interaction_withcounts.sum(axis=1)\n",
        "  sorted = interaction_withcounts.sort_values(by='counts',ascending=False)\n",
        "  most_popular=list(sorted.index)\n",
        "  return(most_popular)\n",
        "\n",
        "print(popularity_based(interaction))"
      ],
      "metadata": {
        "id": "nhA8LQVV7hLb"
      },
      "execution_count": null,
      "outputs": []
    },
    {
      "cell_type": "code",
      "source": [
        "#Item-Based Collaborative Filtering (Let's understand this!)\n",
        "\n",
        "#Measuring Vector Similarity\n",
        "\n",
        "print(list(interaction.loc['item1',:]))"
      ],
      "metadata": {
        "id": "j8UaSDJH8Gtw"
      },
      "execution_count": null,
      "outputs": []
    },
    {
      "cell_type": "code",
      "source": [
        "# calculating cosine similarity\n",
        "\n",
        "def dot_product(vector1,vector2):\n",
        "  thedotproduct=np.sum([vector1[k]*vector2[k] for k in range(0,len(vector1))])\n",
        "  return(thedotproduct)\n",
        "\n",
        "def vector_norm(vector):\n",
        "  thenorm=np.sqrt(dot_product(vector,vector))\n",
        "  return(thenorm)\n",
        "\n",
        "def cosine_similarity(vector1,vector2):\n",
        "  thedotproduct=dot_product(vector1,vector2)\n",
        "  thecosine=thedotproduct/(vector_norm(vector1)*vector_norm(vector2))\n",
        "  thecosine=np.round(thecosine,4)\n",
        "  return(thecosine)"
      ],
      "metadata": {
        "id": "s0SPyNUF-KLZ"
      },
      "execution_count": null,
      "outputs": []
    },
    {
      "cell_type": "code",
      "source": [
        "import numpy as np\n",
        "\n",
        "item1=interaction.loc['item1',:]\n",
        "item3=interaction.loc['item3',:]\n",
        "print(cosine_similarity(item1,item3))"
      ],
      "metadata": {
        "id": "o7_Gg2IqEAky"
      },
      "execution_count": null,
      "outputs": []
    },
    {
      "cell_type": "code",
      "source": [
        "item2=list(interaction.loc['item2',:])\n",
        "item5=list(interaction.loc['item5',:])\n",
        "print(cosine_similarity(item2,item5))"
      ],
      "metadata": {
        "id": "dYfwLHEeEWfb"
      },
      "execution_count": null,
      "outputs": []
    },
    {
      "cell_type": "code",
      "source": [
        "# Implementing Item-Based Collaborative Filtering\n",
        "\n",
        "ouritem='item1'\n",
        "otherrows=[rowname for rowname in interaction.index if rowname!=ouritem]\n",
        "otheritems=interaction.loc[otherrows,:]\n",
        "theitem=interaction.loc[ouritem,:]"
      ],
      "metadata": {
        "id": "dv0Aq1cEEZrL"
      },
      "execution_count": null,
      "outputs": []
    },
    {
      "cell_type": "code",
      "source": [
        "similarities=[]\n",
        "for items in otheritems.index:\n",
        "  similarities.append(cosine_similarity(theitem,otheritems.loc[items,:]))\n",
        "otheritems['similarities']=similarities\n",
        "recommendations = list(otheritems.sort_values(by='similarities',ascending=False).index)\n",
        "print(recommendations)"
      ],
      "metadata": {
        "id": "zoa99yY3EzQ6"
      },
      "execution_count": null,
      "outputs": []
    },
    {
      "cell_type": "code",
      "source": [
        "def get_item_recommendations(interaction,itemname):\n",
        "  otherrows=[rowname for rowname in interaction.index if rowname!=itemname]\n",
        "  otheritems=interaction.loc[otherrows,:]\n",
        "  theitem=list(interaction.loc[itemname,:])\n",
        "\n",
        "  similarities=[]\n",
        "  for items in otheritems.index:\n",
        "    similarities.append(cosine_similarity(theitem,list(otheritems.loc[items,:])))\n",
        "\n",
        "  otheritems['similarities']=similarities\n",
        "  return list(otheritems.sort_values(by='similarities',ascending=False).index)"
      ],
      "metadata": {
        "id": "wrU8d-9jE-3p"
      },
      "execution_count": null,
      "outputs": []
    },
    {
      "cell_type": "code",
      "source": [
        "get_item_recommendations(interaction,'item1')"
      ],
      "metadata": {
        "id": "S8voPZqkFTJv"
      },
      "execution_count": null,
      "outputs": []
    },
    {
      "cell_type": "code",
      "source": [
        "# User-Based Collaborative Filtering\n",
        "\n",
        "user2=interaction.loc[:,'user2']\n",
        "user5=interaction.loc[:,'user5']\n",
        "print(cosine_similarity(user2,user5))"
      ],
      "metadata": {
        "id": "dxvjxCKBFWOJ"
      },
      "execution_count": null,
      "outputs": []
    },
    {
      "cell_type": "code",
      "source": [
        "user3=interaction.loc[:,'user3']\n",
        "user5=interaction.loc[:,'user5']\n",
        "print(cosine_similarity(user3,user5))"
      ],
      "metadata": {
        "id": "bNo4YcX8GGHf"
      },
      "execution_count": null,
      "outputs": []
    },
    {
      "cell_type": "code",
      "source": [
        "def get_similar_users(interaction,username):\n",
        "  othercolumns=[columnname for columnname in interaction.columns if columnname!=username]\n",
        "  otherusers=interaction[othercolumns]\n",
        "  theuser=list(interaction[username])\n",
        "\n",
        "  similarities=[]\n",
        "  for users in otherusers.columns:\n",
        "    similarities.append(cosine_similarity(theuser,list(otherusers.loc[:,users])))\n",
        "\n",
        "  otherusers.loc['similarities',:]=similarities\n",
        "  return list(otherusers.sort_values(by='similarities',axis=1,ascending=False).columns)"
      ],
      "metadata": {
        "id": "7w4oj00sGKYN"
      },
      "execution_count": null,
      "outputs": []
    },
    {
      "cell_type": "code",
      "source": [
        "def get_user_recommendations(interaction,username):\n",
        "  similar_users=get_similar_users(interaction,username)\n",
        "  purchase_history=interaction[similar_users[0]]\n",
        "  purchased=list(purchase_history.loc[purchase_history==1].index)\n",
        "  purchased2=list(interaction.loc[interaction[username]==1,:].index)\n",
        "  recs=sorted(list(set(purchased) - set(purchased2)))\n",
        "  return(recs)\n",
        "\n",
        "get_user_recommendations(interaction,'user2')"
      ],
      "metadata": {
        "id": "02kyAv8AGTzC"
      },
      "execution_count": null,
      "outputs": []
    },
    {
      "cell_type": "markdown",
      "source": [
        "### **Case Study: Music Recommendations**"
      ],
      "metadata": {
        "id": "0GAJwSumJKGH"
      }
    },
    {
      "cell_type": "code",
      "source": [
        "import pandas as pd\n",
        "lastfm = pd.read_csv(\"https://bradfordtuckfield.com/lastfm-matrix-germany.csv\")\n",
        "print(lastfm.head())"
      ],
      "metadata": {
        "id": "YYyqSxjGG69c"
      },
      "execution_count": null,
      "outputs": []
    },
    {
      "cell_type": "code",
      "source": [
        "lastfm.drop(['user'],axis=1,inplace=True)\n",
        "lastfmt=lastfm.T\n",
        "print(lastfmt.shape)"
      ],
      "metadata": {
        "id": "Xy8nIojWJT4w"
      },
      "execution_count": null,
      "outputs": []
    },
    {
      "cell_type": "code",
      "source": [
        "get_item_recommendations(lastfmt,'abba')[0:10]"
      ],
      "metadata": {
        "id": "ybWU-zqjKJ-o"
      },
      "execution_count": null,
      "outputs": []
    },
    {
      "cell_type": "code",
      "source": [
        "print(get_user_recommendations(lastfmt,0)[0:3])"
      ],
      "metadata": {
        "id": "sgYq-uWWKMui"
      },
      "execution_count": null,
      "outputs": []
    },
    {
      "cell_type": "code",
      "source": [],
      "metadata": {
        "id": "mTIQz6P5KdHT"
      },
      "execution_count": null,
      "outputs": []
    }
  ]
}