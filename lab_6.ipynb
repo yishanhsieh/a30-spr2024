{
  "nbformat": 4,
  "nbformat_minor": 0,
  "metadata": {
    "colab": {
      "provenance": [],
      "include_colab_link": true
    },
    "kernelspec": {
      "name": "python3",
      "display_name": "Python 3"
    },
    "language_info": {
      "name": "python"
    }
  },
  "cells": [
    {
      "cell_type": "markdown",
      "metadata": {
        "id": "view-in-github",
        "colab_type": "text"
      },
      "source": [
        "<a href=\"https://colab.research.google.com/github/yishanhsieh/a30-spr2024/blob/main/lab_6.ipynb\" target=\"_parent\"><img src=\"https://colab.research.google.com/assets/colab-badge.svg\" alt=\"Open In Colab\"/></a>"
      ]
    },
    {
      "cell_type": "markdown",
      "source": [
        "### **Strategy in code to stop when there are more red cards remaining than black ones ?**"
      ],
      "metadata": {
        "id": "eWvaVqGdE2Uw"
      }
    },
    {
      "cell_type": "markdown",
      "source": [
        "**1) Initialize the deck:** The deck is initialized with 26 red cards (1s) and 26 black cards (0s)"
      ],
      "metadata": {
        "id": "fomiB5dQFCCA"
      }
    },
    {
      "cell_type": "code",
      "execution_count": null,
      "metadata": {
        "id": "X119xjweERZf"
      },
      "outputs": [],
      "source": [
        "red_cards = 26 * [1]\n",
        "black_cards = 26 * [0]\n",
        "unshuffled_deck = red_cards + black_cards"
      ]
    },
    {
      "cell_type": "code",
      "source": [
        "len(unshuffled_deck)"
      ],
      "metadata": {
        "colab": {
          "base_uri": "https://localhost:8080/"
        },
        "id": "nSXHhoAUET2Y",
        "outputId": "4a727369-01d4-4902-919e-7f633598a8ab"
      },
      "execution_count": null,
      "outputs": [
        {
          "output_type": "execute_result",
          "data": {
            "text/plain": [
              "52"
            ]
          },
          "metadata": {},
          "execution_count": 20
        }
      ]
    },
    {
      "cell_type": "code",
      "source": [
        "import numpy as np # this is very important step before you start using the library"
      ],
      "metadata": {
        "id": "x-bzFktgEc5t"
      },
      "execution_count": null,
      "outputs": []
    },
    {
      "cell_type": "markdown",
      "source": [
        "**2) Shuffle the deck:** The deck is shuffled randomly using `np.random.permutation`. This reorders the cards randomly:"
      ],
      "metadata": {
        "id": "EiVc6iE0FLpn"
      }
    },
    {
      "cell_type": "code",
      "source": [
        "np.random.seed(1) # ensures that we get the same shuffled deck every time we run the simulation for consistency\n",
        "shuffled_deck = np.random.permutation(unshuffled_deck)"
      ],
      "metadata": {
        "id": "2XyQf3erEZmB"
      },
      "execution_count": null,
      "outputs": []
    },
    {
      "cell_type": "markdown",
      "source": [
        "**3) Iterative card flipping:** Now we flip cards one by one and stop when there are more red cards than black cards remaining in the unflipped portion of the deck.\n",
        "\n",
        "To do this, we need to track how many red and black cards remain as we flip through the deck."
      ],
      "metadata": {
        "id": "KurfDOj8FYhR"
      }
    },
    {
      "cell_type": "code",
      "source": [
        "red_remaining = 26  # Start with all 26 red cards available\n",
        "black_remaining = 26  # Start with all 26 black cards available\n",
        "\n",
        "for card in shuffled_deck:\n",
        "    if red_remaining > black_remaining:  # Strategy: stop flipping\n",
        "        break  # Stop flipping when more red cards remain than black\n",
        "\n",
        "    # After flipping a card, we update the count of remaining cards:\n",
        "    if card == 1:  # If the flipped card is red\n",
        "        red_remaining -= 1  # Decrease red card count\n",
        "    else:  # If the flipped card is black\n",
        "        black_remaining -= 1  # Decrease black card count\n",
        "\n",
        "# Flip one more card after stopping\n",
        "final_card = shuffled_deck[len(shuffled_deck) - red_remaining - black_remaining]\n",
        "if final_card == 1:\n",
        "    print(\"You win a dollar!\")\n",
        "else:\n",
        "    print(\"You lose a dollar.\")"
      ],
      "metadata": {
        "colab": {
          "base_uri": "https://localhost:8080/"
        },
        "id": "Kzf3TZakEmY8",
        "outputId": "f6cbe461-7e86-4c3a-a325-8f809243b267"
      },
      "execution_count": null,
      "outputs": [
        {
          "output_type": "stream",
          "name": "stdout",
          "text": [
            "You win a dollar!\n"
          ]
        }
      ]
    },
    {
      "cell_type": "markdown",
      "source": [
        "- Generalize the startegy by making remaining red card flexible"
      ],
      "metadata": {
        "id": "zW56KARZJnYn"
      }
    },
    {
      "cell_type": "code",
      "source": [
        "# Step 1: Create the deck\n",
        "red_cards = 26 * [1]\n",
        "black_cards = 26 * [0]\n",
        "unshuffled_deck = red_cards + black_cards\n",
        "\n",
        "# Step 2: Shuffle the deck\n",
        "np.random.seed(1)  # For reproducibility\n",
        "shuffled_deck = np.random.permutation(unshuffled_deck)\n",
        "\n",
        "# Step 3: Initialize remaining counts\n",
        "red_remaining = 26\n",
        "black_remaining = 26\n",
        "total_cards = 52  # Total number of cards in the deck\n",
        "\n",
        "# Step 4: Flip cards until we decide to stop based on min_fraction_red\n",
        "min_fraction_red = 0.2  # Generalized parameter for flexibility\n",
        "\n",
        "for i, card in enumerate(shuffled_deck):\n",
        "    # Calculate the fraction of remaining red cards\n",
        "    fraction_red_cards = red_remaining / (total_cards - i)\n",
        "\n",
        "    # Stop if the fraction of remaining red cards exceeds the threshold\n",
        "    if fraction_red_cards > min_fraction_red:\n",
        "        break\n",
        "\n",
        "    # Update remaining card counts/\n",
        "    if card == 1:\n",
        "        red_remaining -= 1\n",
        "    else:\n",
        "        black_remaining -= 1\n",
        "\n",
        "# Step 5: Flip one more card after stopping\n",
        "final_card = shuffled_deck[i + 1]  # The next card after we stop\n",
        "if final_card == 1:\n",
        "    print(\"You win a dollar!\")\n",
        "else:\n",
        "    print(\"You lose a dollar.\")"
      ],
      "metadata": {
        "colab": {
          "base_uri": "https://localhost:8080/"
        },
        "id": "lcvjQQG4GKKn",
        "outputId": "915f44bf-90bb-4427-cb04-c15c5f974d3c"
      },
      "execution_count": null,
      "outputs": [
        {
          "output_type": "stream",
          "name": "stdout",
          "text": [
            "You win a dollar!\n"
          ]
        }
      ]
    },
    {
      "cell_type": "markdown",
      "source": [
        "OR"
      ],
      "metadata": {
        "id": "hz_dDdwaP2Xs"
      }
    },
    {
      "cell_type": "code",
      "source": [
        "import numpy as np\n",
        "\n",
        "# Step 1: Create the deck\n",
        "red_cards = 26 * [1]\n",
        "black_cards = 26 * [0]\n",
        "unshuffled_deck = red_cards + black_cards\n",
        "\n",
        "# The execute_strategy function implementing the card-flipping strategy\n",
        "def execute_strategy(min_fraction_red=0.5, shuffled_deck=None, return_index=False):\n",
        "    # Step 2: Shuffle the deck if no shuffled deck is provided\n",
        "    if shuffled_deck is None:\n",
        "        shuffled_deck = np.random.permutation(unshuffled_deck)\n",
        "\n",
        "    # Step 3: Initialize remaining counts\n",
        "    red_remaining = 26\n",
        "    total_cards = 52\n",
        "\n",
        "    # Step 4: Flip cards until we decide to stop based on min_fraction_red\n",
        "    for i, card in enumerate(shuffled_deck[:-1]):  # Avoid accessing the last card\n",
        "        # Calculate the fraction of remaining red cards\n",
        "        fraction_red_cards = red_remaining / (total_cards - i)\n",
        "\n",
        "        # Stop if the fraction of remaining red cards exceeds the threshold\n",
        "        if fraction_red_cards > min_fraction_red:\n",
        "            break\n",
        "\n",
        "        # Update remaining card counts\n",
        "        if card == 1:\n",
        "            red_remaining -= 1\n",
        "\n",
        "    # Step 5: Return the next card after stopping\n",
        "    # Ensure we're not accessing out of bounds by checking the index\n",
        "    if i + 1 < len(shuffled_deck):\n",
        "        final_card = shuffled_deck[i + 1]  # The next card after we stop\n",
        "    else:\n",
        "        final_card = shuffled_deck[i]  # Handle the case if the loop ends near the last card\n",
        "\n",
        "    # Return the final card and optionally its index\n",
        "    if return_index:\n",
        "        return i + 1, final_card  # Return the index and card value\n",
        "    else:\n",
        "        return final_card  # Return only the card value (1 for win, 0 for loss)\n",
        "\n",
        "# Set the seed to 0 for reproducibility, like in the book\n",
        "np.random.seed(0)"
      ],
      "metadata": {
        "id": "2IrI2mQDJ3xA"
      },
      "execution_count": null,
      "outputs": []
    },
    {
      "cell_type": "code",
      "source": [
        "# Test the function with 1000 simulations\n",
        "observations = np.array([execute_strategy() for _ in range(1000)])\n",
        "\n",
        "# Calculate the frequency of wins\n",
        "frequency_wins = observations.mean()\n",
        "\n",
        "# Print the result\n",
        "print(f\"The frequency of wins is {frequency_wins}\")"
      ],
      "metadata": {
        "colab": {
          "base_uri": "https://localhost:8080/"
        },
        "id": "CMGZhW4SP6VH",
        "outputId": "34e316fe-ddab-427e-fa1f-96fe70b529ab"
      },
      "execution_count": null,
      "outputs": [
        {
          "output_type": "stream",
          "name": "stdout",
          "text": [
            "The frequency of wins is 0.502\n"
          ]
        }
      ]
    },
    {
      "cell_type": "markdown",
      "source": [
        "- **We’ve won 50.2% of the total games! Our strategy appears to be working: 502 wins and 498 losses will net us a total profit of $4.**"
      ],
      "metadata": {
        "id": "XBhFly8KhXV3"
      }
    },
    {
      "cell_type": "code",
      "source": [
        "# Computing total profit\n",
        "dollars_won = frequency_wins * 1000\n",
        "dollars_lost = (1 - frequency_wins) * 1000\n",
        "total_profit = dollars_won - dollars_lost\n",
        "print(f\"Total profit is ${total_profit:.2f}\")"
      ],
      "metadata": {
        "colab": {
          "base_uri": "https://localhost:8080/"
        },
        "id": "Qvzo0vKeP-0b",
        "outputId": "93d91b6e-a6ae-40da-fb14-eb82c91e8839"
      },
      "execution_count": null,
      "outputs": [
        {
          "output_type": "stream",
          "name": "stdout",
          "text": [
            "Total profit is $4.00\n"
          ]
        }
      ]
    },
    {
      "cell_type": "markdown",
      "source": [
        "#### **Plotting simulated frequencies of wins**"
      ],
      "metadata": {
        "id": "YZWZt-xBwEbC"
      }
    },
    {
      "cell_type": "code",
      "source": [
        "def repeat_game(number_repeats):\n",
        "    observations = np.array([execute_strategy() for _ in range(number_repeats)])\n",
        "    return observations.mean()\n",
        "\n",
        "frequencies = []\n",
        "for i in range(1, 1000):\n",
        "    frequencies.append(repeat_game(i))"
      ],
      "metadata": {
        "id": "OVu139Qph6W9"
      },
      "execution_count": null,
      "outputs": []
    },
    {
      "cell_type": "code",
      "source": [
        "import matplotlib.pyplot as plt\n",
        "\n",
        "plt.plot(list(range(1, 1000)), frequencies)\n",
        "plt.axhline(0.5, color='k')\n",
        "plt.xlabel('Number of Card Shuffles')\n",
        "plt.ylabel('Win-Frequency')\n",
        "plt.show()"
      ],
      "metadata": {
        "colab": {
          "base_uri": "https://localhost:8080/",
          "height": 449
        },
        "id": "5W0KSnmawTIM",
        "outputId": "67a189a2-d26b-4eb5-a766-b99e644a33a6"
      },
      "execution_count": null,
      "outputs": [
        {
          "output_type": "display_data",
          "data": {
            "text/plain": [
              "<Figure size 640x480 with 1 Axes>"
            ],
            "image/png": "[encoded data removed]"
          },
          "metadata": {}
        }
      ]
    },
    {
      "cell_type": "code",
      "source": [
        "print(f\"The win-frequency for 10,000 shuffles is {frequencies[-1]}\")"
      ],
      "metadata": {
        "colab": {
          "base_uri": "https://localhost:8080/"
        },
        "id": "nxWay9_twVCv",
        "outputId": "b8093e00-047a-4342-d9ab-a772954d2beb"
      },
      "execution_count": null,
      "outputs": [
        {
          "output_type": "stream",
          "name": "stdout",
          "text": [
            "The win-frequency for 10,000 shuffles is 0.5015015015015015\n"
          ]
        }
      ]
    },
    {
      "cell_type": "markdown",
      "source": [
        "*After this we can try doing millions of shuffles but still the frequency stayed between - 0.488 to 0.501 (so there is a very good chance we of us loosing a lot of money here)*"
      ],
      "metadata": {
        "id": "viXidjA7Djek"
      }
    },
    {
      "cell_type": "code",
      "source": [],
      "metadata": {
        "id": "MaBWvkrwA16L"
      },
      "execution_count": null,
      "outputs": []
    },
    {
      "cell_type": "markdown",
      "source": [
        "### **Optimizing strategies using the sample space for a 10-card deck**"
      ],
      "metadata": {
        "id": "wrZ9FPUDC41x"
      }
    },
    {
      "cell_type": "code",
      "source": [
        "# helper code\n",
        "\n",
        "def get_matching_event(event_condition, sample_space):\n",
        " return set([outcome for outcome in sample_space if event_condition(outcome)])\n",
        "\n",
        "def compute_event_probability(event_condition, generic_sample_space):\n",
        " event = get_matching_event(event_condition, generic_sample_space)\n",
        " if type(generic_sample_space) == type(set()):\n",
        "  return len(event) / len(generic_sample_space)\n",
        " event_size = sum(generic_sample_space[outcome] for outcome in event)\n",
        " return event_size / sum(generic_sample_space.values())"
      ],
      "metadata": {
        "id": "c1XNByxoDO3Z"
      },
      "execution_count": null,
      "outputs": []
    },
    {
      "cell_type": "code",
      "source": [
        "import itertools\n",
        "\n",
        "total_cards = 10\n",
        "total_red_cards = int(total_cards / 2)\n",
        "total_black_cards = total_red_cards\n",
        "unshuffled_deck = [1] * total_red_cards + [0] * total_black_cards\n",
        "sample_space = set(itertools.permutations(unshuffled_deck))\n",
        "win_condition = lambda x: execute_strategy(shuffled_deck=np.array(x))\n",
        "prob_win = compute_event_probability(win_condition, sample_space)\n",
        "print(f\"Probability of a win is {prob_win}\")"
      ],
      "metadata": {
        "id": "ZjjKV8a6AO5c",
        "colab": {
          "base_uri": "https://localhost:8080/"
        },
        "outputId": "96b66905-b395-43c7-8cea-ee30fd068802"
      },
      "execution_count": null,
      "outputs": [
        {
          "output_type": "stream",
          "name": "stdout",
          "text": [
            "Probability of a win is 0.5\n"
          ]
        }
      ]
    },
    {
      "cell_type": "code",
      "source": [
        "def scan_strategies():\n",
        "  fractions = [value / 100 for value in range(50, 100)]\n",
        "  probabilities = []\n",
        "\n",
        "  for frac in fractions:\n",
        "    win_condition = lambda x: execute_strategy(frac, shuffled_deck=np.array(x))\n",
        "    probabilities.append(compute_event_probability(win_condition, sample_space))\n",
        "\n",
        "  return probabilities\n",
        "\n",
        "probabilities = scan_strategies()\n",
        "print(f\"Lowest probability of win is {min(probabilities)}\")\n",
        "print(f\"Highest probability of win is {max(probabilities)}\")"
      ],
      "metadata": {
        "colab": {
          "base_uri": "https://localhost:8080/"
        },
        "id": "m8DI79vSDbW4",
        "outputId": "844f9db8-4668-4a38-c9f9-c0493e3df2b9"
      },
      "execution_count": null,
      "outputs": [
        {
          "output_type": "stream",
          "name": "stdout",
          "text": [
            "Lowest probability of win is 0.5\n",
            "Highest probability of win is 0.5\n"
          ]
        }
      ]
    },
    {
      "cell_type": "markdown",
      "source": [
        "- Let’s analyze the sample spaces of decks containing two, four, six, and\n",
        "eight cards. We apply all strategies to each sample space and return their probabilities of winning. Then we search for a probability that isn’t equal to 0.5."
      ],
      "metadata": {
        "id": "_fNk0vAbFIbA"
      }
    },
    {
      "cell_type": "code",
      "source": [
        "for total_cards in [2, 4, 6, 8]:\n",
        "  total_red_cards = int(total_cards / 2)\n",
        "  total_black_cards = total_red_cards\n",
        "  unshuffled_deck = [1] * total_red_cards + [0] * total_black_cards\n",
        "  sample_space = set(itertools.permutations(unshuffled_deck))\n",
        "  probabilities = scan_strategies()\n",
        "  if all(prob == 0.5 for prob in probabilities):\n",
        "    print(f\"No winning strategy found for deck of size {total_cards}\")\n",
        "  else:\n",
        "    print(f\"Winning strategy found for deck of size {total_cards}\")"
      ],
      "metadata": {
        "colab": {
          "base_uri": "https://localhost:8080/"
        },
        "id": "ZbDSkWQqELnQ",
        "outputId": "cdd2bd16-8062-43f0-b209-47fd2f290653"
      },
      "execution_count": null,
      "outputs": [
        {
          "output_type": "stream",
          "name": "stdout",
          "text": [
            "No winning strategy found for deck of size 2\n",
            "No winning strategy found for deck of size 4\n",
            "No winning strategy found for deck of size 6\n",
            "No winning strategy found for deck of size 8\n"
          ]
        }
      ]
    },
    {
      "cell_type": "code",
      "source": [],
      "metadata": {
        "id": "EvyGYPraE1vy"
      },
      "execution_count": null,
      "outputs": []
    },
    {
      "cell_type": "code",
      "source": [
        "np.random.seed(0)\n",
        "total_cards = 52\n",
        "total_red_cards = 26\n",
        "unshuffled_deck = red_cards + black_cards\n",
        "\n",
        "def repeat_game_detailed(number_repeats, min_red_fraction):\n",
        "  observations = [execute_strategy(min_red_fraction, return_index=True) for _ in range(num_repeats)]\n",
        "  successes = [index for index, card, in observations if card == 1]\n",
        "  halt_success = len([index for index in successes if index != 51])\n",
        "  no_halt_success = len(successes) - halt_success\n",
        "  failures = [index for index, card, in observations if card == 0]\n",
        "  halt_failure = len([index for index in failures if index != 51])\n",
        "  no_halt_failure = len(failures) - halt_failure\n",
        "  result = [halt_success, halt_failure, no_halt_success, no_halt_failure]\n",
        "  return [r / number_repeats for r in result]\n",
        "\n",
        "\n",
        "fractions = [value / 100 for value in range(50, 100)]\n",
        "num_repeats = 50000\n",
        "result_types = [[], [], [], []]\n",
        "\n",
        "for fraction in fractions:\n",
        "  result = repeat_game_detailed(num_repeats, fraction)\n",
        "  for i in range(4):\n",
        "    result_types[i].append(result[i])\n",
        "\n",
        "plt.plot(fractions, result_types[0], label='A) Strategy Halts. We Win.')\n",
        "plt.plot(fractions, result_types[1], linestyle='--', label='B) Strategy Halts. We Lose.')\n",
        "plt.plot(fractions, result_types[2], linestyle=':', label='C) No Halt. We Win.')\n",
        "plt.plot(fractions, result_types[3], linestyle='-.', label='D) No Halt. We Lose.')\n",
        "plt.xlabel('min_red_fraction')\n",
        "plt.ylabel('Frequency')\n",
        "plt.legend(bbox_to_anchor=(1.0, 0.5))\n",
        "plt.show()"
      ],
      "metadata": {
        "colab": {
          "base_uri": "https://localhost:8080/",
          "height": 352
        },
        "id": "02lfjdGdFtiA",
        "outputId": "26f3b59b-9069-40d2-d654-a183ef53266d"
      },
      "execution_count": null,
      "outputs": [
        {
          "output_type": "display_data",
          "data": {
            "text/plain": [
              "<Figure size 640x480 with 1 Axes>"
            ],
            "image/png": "[encoded data removed]"
          },
          "metadata": {}
        }
      ]
    },
    {
      "cell_type": "code",
      "source": [],
      "metadata": {
        "id": "cpxsRujgGKnj"
      },
      "execution_count": null,
      "outputs": []
    }
  ]
}