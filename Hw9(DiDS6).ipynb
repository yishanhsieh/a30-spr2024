{
  "nbformat": 4,
  "nbformat_minor": 0,
  "metadata": {
    "colab": {
      "provenance": [],
      "mount_file_id": "1qIbLGqPBRhCzTc52w3W5KYPcpg60zw9t",
      "authorship_tag": "ABX9TyOomcSftQf2PZCyfk4/NkiT",
      "include_colab_link": true
    },
    "kernelspec": {
      "name": "python3",
      "display_name": "Python 3"
    },
    "language_info": {
      "name": "python"
    }
  },
  "cells": [
    {
      "cell_type": "markdown",
      "metadata": {
        "id": "view-in-github",
        "colab_type": "text"
      },
      "source": [
        "<a href=\"https://colab.research.google.com/github/yishanhsieh/a30-spr2024/blob/main/Hw9(DiDS6).ipynb\" target=\"_parent\"><img src=\"https://colab.research.google.com/assets/colab-badge.svg\" alt=\"Open In Colab\"/></a>"
      ]
    },
    {
      "cell_type": "markdown",
      "source": [
        "# Chapter 6. Supervised Learning\n"
      ],
      "metadata": {
        "id": "pYZLKDQmx59e"
      }
    },
    {
      "cell_type": "markdown",
      "source": [],
      "metadata": {
        "id": "Y8UnCdZL96d7"
      }
    },
    {
      "cell_type": "markdown",
      "source": [
        "### Logistic regression"
      ],
      "metadata": {
        "id": "jd42pKbkyLM2"
      }
    },
    {
      "cell_type": "code",
      "execution_count": null,
      "metadata": {
        "id": "Nm6eHDn0xqKd",
        "colab": {
          "base_uri": "https://localhost:8080/"
        },
        "outputId": "b917cae3-26d2-44fd-865b-7b6dae7cdf5a"
      },
      "outputs": [
        {
          "output_type": "stream",
          "name": "stdout",
          "text": [
            "<class 'pandas.core.frame.DataFrame'>\n",
            "RangeIndex: 39644 entries, 0 to 39643\n",
            "Data columns (total 61 columns):\n",
            " #   Column                          Non-Null Count  Dtype  \n",
            "---  ------                          --------------  -----  \n",
            " 0   url                             39644 non-null  object \n",
            " 1    timedelta                      39644 non-null  float64\n",
            " 2    n_tokens_title                 39644 non-null  float64\n",
            " 3    n_tokens_content               39644 non-null  float64\n",
            " 4    n_unique_tokens                39644 non-null  float64\n",
            " 5    n_non_stop_words               39644 non-null  float64\n",
            " 6    n_non_stop_unique_tokens       39644 non-null  float64\n",
            " 7    num_hrefs                      39644 non-null  float64\n",
            " 8    num_self_hrefs                 39644 non-null  float64\n",
            " 9    num_imgs                       39644 non-null  float64\n",
            " 10   num_videos                     39644 non-null  float64\n",
            " 11   average_token_length           39644 non-null  float64\n",
            " 12   num_keywords                   39644 non-null  float64\n",
            " 13   data_channel_is_lifestyle      39644 non-null  float64\n",
            " 14   data_channel_is_entertainment  39644 non-null  float64\n",
            " 15   data_channel_is_bus            39644 non-null  float64\n",
            " 16   data_channel_is_socmed         39644 non-null  float64\n",
            " 17   data_channel_is_tech           39644 non-null  float64\n",
            " 18   data_channel_is_world          39644 non-null  float64\n",
            " 19   kw_min_min                     39644 non-null  float64\n",
            " 20   kw_max_min                     39644 non-null  float64\n",
            " 21   kw_avg_min                     39644 non-null  float64\n",
            " 22   kw_min_max                     39644 non-null  float64\n",
            " 23   kw_max_max                     39644 non-null  float64\n",
            " 24   kw_avg_max                     39644 non-null  float64\n",
            " 25   kw_min_avg                     39644 non-null  float64\n",
            " 26   kw_max_avg                     39644 non-null  float64\n",
            " 27   kw_avg_avg                     39644 non-null  float64\n",
            " 28   self_reference_min_shares      39644 non-null  float64\n",
            " 29   self_reference_max_shares      39644 non-null  float64\n",
            " 30   self_reference_avg_sharess     39644 non-null  float64\n",
            " 31   weekday_is_monday              39644 non-null  float64\n",
            " 32   weekday_is_tuesday             39644 non-null  float64\n",
            " 33   weekday_is_wednesday           39644 non-null  float64\n",
            " 34   weekday_is_thursday            39644 non-null  float64\n",
            " 35   weekday_is_friday              39644 non-null  float64\n",
            " 36   weekday_is_saturday            39644 non-null  float64\n",
            " 37   weekday_is_sunday              39644 non-null  float64\n",
            " 38   is_weekend                     39644 non-null  float64\n",
            " 39   LDA_00                         39644 non-null  float64\n",
            " 40   LDA_01                         39644 non-null  float64\n",
            " 41   LDA_02                         39644 non-null  float64\n",
            " 42   LDA_03                         39644 non-null  float64\n",
            " 43   LDA_04                         39644 non-null  float64\n",
            " 44   global_subjectivity            39644 non-null  float64\n",
            " 45   global_sentiment_polarity      39644 non-null  float64\n",
            " 46   global_rate_positive_words     39644 non-null  float64\n",
            " 47   global_rate_negative_words     39644 non-null  float64\n",
            " 48   rate_positive_words            39644 non-null  float64\n",
            " 49   rate_negative_words            39644 non-null  float64\n",
            " 50   avg_positive_polarity          39644 non-null  float64\n",
            " 51   min_positive_polarity          39644 non-null  float64\n",
            " 52   max_positive_polarity          39644 non-null  float64\n",
            " 53   avg_negative_polarity          39644 non-null  float64\n",
            " 54   min_negative_polarity          39644 non-null  float64\n",
            " 55   max_negative_polarity          39644 non-null  float64\n",
            " 56   title_subjectivity             39644 non-null  float64\n",
            " 57   title_sentiment_polarity       39644 non-null  float64\n",
            " 58   abs_title_subjectivity         39644 non-null  float64\n",
            " 59   abs_title_sentiment_polarity   39644 non-null  float64\n",
            " 60   shares                         39644 non-null  int64  \n",
            "dtypes: float64(59), int64(1), object(1)\n",
            "memory usage: 18.5+ MB\n"
          ]
        }
      ],
      "source": [
        "import pandas as pd\n",
        "news = pd.read_csv('OnlineNewsPopularity.csv')\n",
        "news.info()"
      ]
    },
    {
      "cell_type": "code",
      "source": [
        "#a graph of the relationship between sentiment and shares\n",
        "from matplotlib import pyplot as plt\n",
        "plt.scatter(news[' global_sentiment_polarity'],news[' shares'])\n",
        "plt.title('Popularity by Sentiment')\n",
        "plt.xlabel('Sentiment Polarity')\n",
        "plt.ylabel('Shares')\n",
        "plt.show()"
      ],
      "metadata": {
        "colab": {
          "base_uri": "https://localhost:8080/",
          "height": 472
        },
        "id": "SAan_pAE1Fnv",
        "outputId": "78323f67-01b9-4efc-dce9-0585d65e5732"
      },
      "execution_count": null,
      "outputs": [
        {
          "output_type": "display_data",
          "data": {
            "text/plain": [
              "<Figure size 640x480 with 1 Axes>"
            ],
            "image/png": "[encoded data removed]"
          },
          "metadata": {}
        }
      ]
    },
    {
      "cell_type": "code",
      "source": [
        "#use linear regressoin as a prediction method\n",
        "\n",
        "from sklearn.linear_model import LinearRegression\n",
        "x = news[' global_sentiment_polarity'].values.reshape(-1,1)\n",
        "y = news[' shares'].values.reshape(-1,1)\n",
        "regressor = LinearRegression()\n",
        "regressor.fit(x, y)\n",
        "print(regressor.coef_)\n",
        "print(regressor.intercept_)\n",
        "\n",
        "#shares = 3335.8 + 499.3 · sentiment"
      ],
      "metadata": {
        "colab": {
          "base_uri": "https://localhost:8080/"
        },
        "id": "opvDaMp21ge1",
        "outputId": "f810755e-2eee-49b9-df58-428d01bfd444"
      },
      "execution_count": null,
      "outputs": [
        {
          "output_type": "stream",
          "name": "stdout",
          "text": [
            "[[499.34840588]]\n",
            "[3335.80329021]\n"
          ]
        }
      ]
    },
    {
      "cell_type": "code",
      "source": [
        "# plot the regression\n",
        "regline=regressor.predict(x)\n",
        "plt.scatter(news[' global_sentiment_polarity'],news[' shares'],color='blue')\n",
        "plt.plot(sorted(news[' global_sentiment_polarity'].tolist()),regline,'r')\n",
        "plt.title('Shares by Sentiment')\n",
        "plt.xlabel('Sentiment')\n",
        "plt.ylabel('Shares')\n",
        "plt.show()"
      ],
      "metadata": {
        "colab": {
          "base_uri": "https://localhost:8080/",
          "height": 472
        },
        "id": "YSo9B3Cl10We",
        "outputId": "6a056967-a22a-4a23-badc-adf4592e62be"
      },
      "execution_count": null,
      "outputs": [
        {
          "output_type": "display_data",
          "data": {
            "text/plain": [
              "<Figure size 640x480 with 1 Axes>"
            ],
            "image/png": "[encoded data removed]"
          },
          "metadata": {}
        }
      ]
    },
    {
      "cell_type": "markdown",
      "source": [
        "What does the diagram mean?"
      ],
      "metadata": {
        "id": "MO8R6DoS2M2X"
      }
    },
    {
      "cell_type": "markdown",
      "source": [],
      "metadata": {
        "id": "ASVlC52c_pdf"
      }
    },
    {
      "cell_type": "markdown",
      "source": [
        "### K-NN (K nearest neighbors)\n",
        "\n",
        "If things live in the same neighborhood,\n",
        "they might be similar to each other."
      ],
      "metadata": {
        "id": "Yn5IyrLNZKW2"
      }
    },
    {
      "cell_type": "code",
      "source": [
        "#KNN\n",
        "k=15 #the number of neighbors\n",
        "newsentiment=0.5\n",
        "\n",
        "# convert shares to a list\n",
        "allsentiment=news[' global_sentiment_polarity'].tolist()\n",
        "allshares=news[' shares'].tolist()\n",
        "\n",
        "# calculate the distance between an existing article and the new article\n",
        "distances=[abs(x-newsentiment) for x in allsentiment]"
      ],
      "metadata": {
        "id": "y8NDL9qS2L4e"
      },
      "execution_count": null,
      "outputs": []
    },
    {
      "cell_type": "code",
      "source": [
        " # find the nearest neighbors\n",
        "import numpy as np\n",
        "idx = np.argsort(distances)\n",
        "print(idx[0:k])"
      ],
      "metadata": {
        "colab": {
          "base_uri": "https://localhost:8080/"
        },
        "id": "wK0oDcTdBd_c",
        "outputId": "f223e4a4-bfef-4d54-f8ff-13d91a6ee323"
      },
      "execution_count": null,
      "outputs": [
        {
          "output_type": "stream",
          "name": "stdout",
          "text": [
            "[30230 22546  7284 13035 29598 19361 36029 30670 25556  6744 26473  7211\n",
            "  9200 15198 31496]\n"
          ]
        }
      ]
    },
    {
      "cell_type": "code",
      "source": [
        "nearbyshares=[allshares[i] for i in idx[0:k]]\n",
        "print(np.mean(nearbyshares))\n",
        "# articles with sentiment equal to 0.5 get about 7344 social media shares"
      ],
      "metadata": {
        "colab": {
          "base_uri": "https://localhost:8080/"
        },
        "id": "6E-HzhQuB3GF",
        "outputId": "b7ffe166-9988-4f45-ad9f-77fcb5c5b943"
      },
      "execution_count": null,
      "outputs": [
        {
          "output_type": "stream",
          "name": "stdout",
          "text": [
            "7344.466666666666\n"
          ]
        }
      ]
    },
    {
      "cell_type": "markdown",
      "source": [
        "so, a new article with sentiment equal to 0.5 will get about 7344 shares."
      ],
      "metadata": {
        "id": "cHb9nGwOCaXi"
      }
    },
    {
      "cell_type": "markdown",
      "source": [
        "### k-NN with sklearn"
      ],
      "metadata": {
        "id": "JOUaTteFCn8T"
      }
    },
    {
      "cell_type": "markdown",
      "source": [
        "k-NN is not regression, but why it is called regressor?\n",
        "\n",
        "Because regression has been a synonym for supervised learning."
      ],
      "metadata": {
        "id": "rig_n6mlDCek"
      }
    },
    {
      "cell_type": "code",
      "source": [
        "from sklearn.neighbors import KNeighborsRegressor"
      ],
      "metadata": {
        "id": "kbFPMOJ2CO6E"
      },
      "execution_count": null,
      "outputs": []
    },
    {
      "cell_type": "code",
      "source": [
        "x=np.array(allsentiment).reshape(-1,1)\n",
        "y=np.array(allshares)\n",
        "knnregressor = KNeighborsRegressor(n_neighbors=15)\n",
        "knnregressor.fit(x,y)\n",
        "print(knnregressor.predict(np.array([newsentiment]).reshape(1,-1)))\n"
      ],
      "metadata": {
        "colab": {
          "base_uri": "https://localhost:8080/"
        },
        "id": "IPY3pRjbDpSt",
        "outputId": "c8904ddf-99d0-45d4-d8eb-2f2b5f48efbe"
      },
      "execution_count": null,
      "outputs": [
        {
          "output_type": "stream",
          "name": "stdout",
          "text": [
            "[7344.46666667]\n"
          ]
        }
      ]
    },
    {
      "cell_type": "markdown",
      "source": [
        "The output is the same as we do the knn manually."
      ],
      "metadata": {
        "id": "GymRP1-gEqle"
      }
    },
    {
      "cell_type": "markdown",
      "source": [
        "### other supervised learning algorithms\n",
        "\n",
        "processes are similar:\n",
        "\n",
        "1. import the package\n",
        "2. define a regressor\n",
        "3. fit the regressor to the data (find the optimized learned function)\n",
        "4. use the fitted regressor to make a prediction"
      ],
      "metadata": {
        "id": "ztXdCqv7E-Gz"
      }
    },
    {
      "cell_type": "code",
      "source": [
        "#linear regression\n",
        "from sklearn.linear_model import LinearRegression\n",
        "regressor = LinearRegression()\n",
        "regressor.fit(np.array(allsentiment).reshape(-1,1), np.array(allshares))\n",
        "print(regressor.predict(np.array([newsentiment]).reshape(1,-1)))"
      ],
      "metadata": {
        "colab": {
          "base_uri": "https://localhost:8080/"
        },
        "id": "9CrgiMyAFB2E",
        "outputId": "8dcd6343-5301-4f73-fa78-c240928c1969"
      },
      "execution_count": null,
      "outputs": [
        {
          "output_type": "stream",
          "name": "stdout",
          "text": [
            "[3585.47749315]\n"
          ]
        }
      ]
    },
    {
      "cell_type": "code",
      "source": [
        "#knn\n",
        "from sklearn.neighbors import KNeighborsRegressor\n",
        "knnregressor = KNeighborsRegressor(n_neighbors=15)\n",
        "knnregressor.fit(np.array(allsentiment).reshape(-1,1), np.array(allshares))\n",
        "print(knnregressor.predict(np.array([newsentiment]).reshape(1,-1)))"
      ],
      "metadata": {
        "colab": {
          "base_uri": "https://localhost:8080/"
        },
        "id": "HfAX89PkFF0C",
        "outputId": "50d433c9-a1c3-4b92-a13c-46d7bc4a3c7e"
      },
      "execution_count": null,
      "outputs": [
        {
          "output_type": "stream",
          "name": "stdout",
          "text": [
            "[7344.46666667]\n"
          ]
        }
      ]
    },
    {
      "cell_type": "code",
      "source": [
        "#decision tree\n",
        "from sklearn.tree import DecisionTreeRegressor\n",
        "dtregressor = DecisionTreeRegressor(max_depth=3)\n",
        "dtregressor.fit(np.array(allsentiment).reshape(-1,1), np.array(allshares))\n",
        "print(dtregressor.predict(np.array([newsentiment]).reshape(1,-1)))"
      ],
      "metadata": {
        "colab": {
          "base_uri": "https://localhost:8080/"
        },
        "id": "0EhQ52BRFIfd",
        "outputId": "6e522c51-c3e0-4979-e845-eadf05577f59"
      },
      "execution_count": null,
      "outputs": [
        {
          "output_type": "stream",
          "name": "stdout",
          "text": [
            "[3978.70776621]\n"
          ]
        }
      ]
    },
    {
      "cell_type": "code",
      "source": [
        "#random forest\n",
        "from sklearn.ensemble import RandomForestRegressor\n",
        "rfregressor = RandomForestRegressor()\n",
        "rfregressor.fit(np.array(allsentiment).reshape(-1,1), np.array(allshares))\n",
        "print(rfregressor.predict(np.array([newsentiment]).reshape(1,-1)))"
      ],
      "metadata": {
        "colab": {
          "base_uri": "https://localhost:8080/"
        },
        "id": "GvRlBl4BFKkV",
        "outputId": "3cc9b9b6-a449-4360-fe1d-53198338d10d"
      },
      "execution_count": null,
      "outputs": [
        {
          "output_type": "stream",
          "name": "stdout",
          "text": [
            "[4257.12137446]\n"
          ]
        }
      ]
    },
    {
      "cell_type": "code",
      "source": [
        "#neural network\n",
        "from sklearn.neural_network import MLPRegressor\n",
        "nnregressor = MLPRegressor()\n",
        "nnregressor.fit(np.array(allsentiment).reshape(-1,1), np.array(allshares))\n",
        "print(nnregressor.predict(np.array([newsentiment]).reshape(1,-1)))"
      ],
      "metadata": {
        "colab": {
          "base_uri": "https://localhost:8080/"
        },
        "id": "jdAPv33pFNDx",
        "outputId": "f11f1e60-0701-461f-d043-bc35b4e1d630"
      },
      "execution_count": null,
      "outputs": [
        {
          "output_type": "stream",
          "name": "stdout",
          "text": [
            "[3962.98550437]\n"
          ]
        },
        {
          "output_type": "stream",
          "name": "stderr",
          "text": [
            "/usr/local/lib/python3.10/dist-packages/sklearn/neural_network/_multilayer_perceptron.py:690: ConvergenceWarning: Stochastic Optimizer: Maximum iterations (200) reached and the optimization hasn't converged yet.\n",
            "  warnings.warn(\n"
          ]
        }
      ]
    },
    {
      "cell_type": "markdown",
      "source": [
        "which result should we take?"
      ],
      "metadata": {
        "id": "7ReWZyu5qtwY"
      }
    },
    {
      "cell_type": "markdown",
      "source": [
        "# Measure accuracy"
      ],
      "metadata": {
        "id": "n3z-T-z7Fs68"
      }
    },
    {
      "cell_type": "code",
      "source": [
        "allprediction=regressor.predict(np.array([allsentiment]).reshape(-1,1))\n",
        "predictionerror=abs(allprediction-allsentiment)\n",
        "print(np.mean(predictionerror))"
      ],
      "metadata": {
        "colab": {
          "base_uri": "https://localhost:8080/"
        },
        "id": "00KTZPWRGIHF",
        "outputId": "d51d422e-3221-4154-901c-527dbb03526a"
      },
      "execution_count": null,
      "outputs": [
        {
          "output_type": "stream",
          "name": "stdout",
          "text": [
            "3395.26087436506\n"
          ]
        }
      ]
    },
    {
      "cell_type": "code",
      "source": [
        "from sklearn.model_selection import train_test_split\n",
        "x=np.array([allsentiment]).reshape(-1,1)\n",
        "y=np.array(allshares)\n",
        "trainingx,testx,trainingy,testy=train_test_split(x,y,random_state=1)"
      ],
      "metadata": {
        "id": "95TQBEUsGJS7"
      },
      "execution_count": null,
      "outputs": []
    },
    {
      "cell_type": "code",
      "source": [
        "# run the test set for random forest\n",
        "rfregressor = RandomForestRegressor(random_state=1)\n",
        "rfregressor.fit(trainingx, trainingy)\n",
        "predicted = rfregressor.predict(testx)\n",
        "predictionerror = abs(predicted-testy)\n",
        "print(np.mean(predictionerror))"
      ],
      "metadata": {
        "colab": {
          "base_uri": "https://localhost:8080/"
        },
        "id": "9KziLATlGMWz",
        "outputId": "64a2357b-6d2e-4fff-870a-a3180a48695a"
      },
      "execution_count": null,
      "outputs": [
        {
          "output_type": "stream",
          "name": "stdout",
          "text": [
            "3816.4741523079983\n"
          ]
        }
      ]
    },
    {
      "cell_type": "code",
      "source": [
        "# check the prediction error of our k-NN regressor\n",
        "knnregressor = KNeighborsRegressor(n_neighbors=15)\n",
        "knnregressor.fit(trainingx, trainingy)\n",
        "predicted = knnregressor.predict(testx)\n",
        "predictionerror = abs(predicted-testy)\n",
        "print(np.mean(predictionerror))"
      ],
      "metadata": {
        "colab": {
          "base_uri": "https://localhost:8080/"
        },
        "id": "LXUVmvTSJn2N",
        "outputId": "6bba3e05-ddc0-4dbb-c166-9ffb1455fafb"
      },
      "execution_count": null,
      "outputs": [
        {
          "output_type": "stream",
          "name": "stdout",
          "text": [
            "3292.401883429186\n"
          ]
        }
      ]
    },
    {
      "cell_type": "markdown",
      "source": [
        "k-NN has better performance than random forests in this test."
      ],
      "metadata": {
        "id": "2FQNMSgZKRB_"
      }
    },
    {
      "cell_type": "markdown",
      "source": [
        "External brainstorming: why k = 15?\n",
        "\n",
        "[how to get the best value of K?](https://www.datacamp.com/tutorial/k-nearest-neighbor-classification-scikit-learn)"
      ],
      "metadata": {
        "id": "ly3Z569aq47-"
      }
    },
    {
      "cell_type": "markdown",
      "source": [
        "## Multivariate Models"
      ],
      "metadata": {
        "id": "-b7UuE29KlG7"
      }
    },
    {
      "cell_type": "code",
      "source": [
        "# variables: sentiment, tokens, non-stop words\n",
        "# random forest\n",
        "x=news[[' global_sentiment_polarity',' n_unique_tokens',' n_non_stop_words']]\n",
        "y=np.array(allshares)\n",
        "trainingx,testx,trainingy,testy=train_test_split(x,y,random_state=1)\n",
        "\n",
        "from sklearn.ensemble import RandomForestRegressor\n",
        "rfregressor = RandomForestRegressor(random_state=1)\n",
        "rfregressor.fit(trainingx, trainingy)\n",
        "predicted = rfregressor.predict(testx)\n",
        "predictionerror = abs(predicted-testy)"
      ],
      "metadata": {
        "id": "hDB973cyKfKs"
      },
      "execution_count": null,
      "outputs": []
    },
    {
      "cell_type": "code",
      "source": [
        "print(np.mean(predictionerror))"
      ],
      "metadata": {
        "colab": {
          "base_uri": "https://localhost:8080/"
        },
        "id": "ymjwPgC6Lll9",
        "outputId": "03abe46c-25b2-4e5e-880d-02e92d247520"
      },
      "execution_count": null,
      "outputs": [
        {
          "output_type": "stream",
          "name": "stdout",
          "text": [
            "3474.431322312199\n"
          ]
        }
      ]
    },
    {
      "cell_type": "markdown",
      "source": [
        "The multivariate random forest modle performs better than the univariate model."
      ],
      "metadata": {
        "id": "KbL5iV6MMNX5"
      }
    },
    {
      "cell_type": "markdown",
      "source": [
        "### Classification\n",
        "\n",
        "to see if the new article will be above or below the median shares:  high-share / low-share"
      ],
      "metadata": {
        "id": "L8lhnmflMZDM"
      }
    },
    {
      "cell_type": "code",
      "source": [
        "themedian=np.median(news[' shares'])\n",
        "news['abovemedianshares']=1*(news[' shares']>themedian)"
      ],
      "metadata": {
        "id": "c2AAvuTTMam3"
      },
      "execution_count": null,
      "outputs": []
    },
    {
      "cell_type": "code",
      "source": [
        "x=news[[' global_sentiment_polarity',' n_unique_tokens',' n_non_stop_words']]\n",
        "y=np.array(news['abovemedianshares'])\n",
        "from sklearn.neighbors import KNeighborsClassifier\n",
        "knnclassifier = KNeighborsClassifier(n_neighbors=15)\n",
        "trainingx,testx,trainingy,testy=train_test_split(x,y,random_state=1)\n",
        "knnclassifier.fit(trainingx, trainingy)\n",
        "predicted = knnclassifier.predict(testx)"
      ],
      "metadata": {
        "id": "R9Op6N5WNJDE"
      },
      "execution_count": null,
      "outputs": []
    },
    {
      "cell_type": "code",
      "source": [
        "from sklearn.metrics import confusion_matrix\n",
        "print(confusion_matrix(testy,predicted))"
      ],
      "metadata": {
        "colab": {
          "base_uri": "https://localhost:8080/"
        },
        "id": "NLL4pblUNNVd",
        "outputId": "34582514-dadc-4821-8a82-c2d528587d6a"
      },
      "execution_count": null,
      "outputs": [
        {
          "output_type": "stream",
          "name": "stdout",
          "text": [
            "[[2703 2280]\n",
            " [2370 2558]]\n"
          ]
        }
      ]
    },
    {
      "cell_type": "markdown",
      "source": [
        "true positives    |  false negatives    \n",
        "false positives  |  true negatives"
      ],
      "metadata": {
        "id": "0XmiFwQ-NTr1"
      }
    },
    {
      "cell_type": "code",
      "source": [
        "from sklearn.metrics import precision_score\n",
        "from sklearn.metrics import recall_score\n",
        "precision = precision_score(testy,predicted)\n",
        "recall = recall_score(testy,predicted)\n",
        "print('precision:', precision)\n",
        "print('recall:', recall)"
      ],
      "metadata": {
        "colab": {
          "base_uri": "https://localhost:8080/"
        },
        "id": "lB3se9V_NP8c",
        "outputId": "0182dfeb-abbe-4552-af1e-651d22abd769"
      },
      "execution_count": null,
      "outputs": [
        {
          "output_type": "stream",
          "name": "stdout",
          "text": [
            "precision: 0.5287308805291443\n",
            "recall: 0.5190746753246753\n"
          ]
        }
      ]
    },
    {
      "cell_type": "markdown",
      "source": [
        "half half, it's hard to know the number of shares an article will get."
      ],
      "metadata": {
        "id": "eLu0dnX2N3WF"
      }
    }
  ]
}