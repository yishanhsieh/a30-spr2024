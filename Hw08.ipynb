{
  "nbformat": 4,
  "nbformat_minor": 0,
  "metadata": {
    "colab": {
      "provenance": [],
      "authorship_tag": "ABX9TyPoAvVKRz1zyXhLkUqfELW7",
      "include_colab_link": true
    },
    "kernelspec": {
      "name": "python3",
      "display_name": "Python 3"
    },
    "language_info": {
      "name": "python"
    }
  },
  "cells": [
    {
      "cell_type": "markdown",
      "metadata": {
        "id": "view-in-github",
        "colab_type": "text"
      },
      "source": [
        "<a href=\"https://colab.research.google.com/github/yishanhsieh/a30-spr2024/blob/main/Hw08.ipynb\" target=\"_parent\"><img src=\"https://colab.research.google.com/assets/colab-badge.svg\" alt=\"Open In Colab\"/></a>"
      ]
    },
    {
      "cell_type": "code",
      "execution_count": null,
      "metadata": {
        "id": "U_LPYYd56Iup"
      },
      "outputs": [],
      "source": [
        "import pandas as pd\n",
        "desktop=pd.read_csv('desktop.csv')\n",
        "laptop=pd.read_csv('laptop.csv')"
      ]
    },
    {
      "cell_type": "code",
      "source": [
        "print(desktop.head())"
      ],
      "metadata": {
        "colab": {
          "base_uri": "https://localhost:8080/"
        },
        "id": "hV6bLZfD6-61",
        "outputId": "8443f1e2-9ff2-4ebd-8163-0ef4c1408ff9"
      },
      "execution_count": null,
      "outputs": [
        {
          "output_type": "stream",
          "name": "stdout",
          "text": [
            "   userid  spending  age  visits\n",
            "0       1      1250   31     126\n",
            "1       2       900   27       5\n",
            "2       3         0   30     459\n",
            "3       4      2890   22      18\n",
            "4       5      1460   38      20\n"
          ]
        }
      ]
    },
    {
      "cell_type": "code",
      "source": [
        "print(laptop.head())"
      ],
      "metadata": {
        "colab": {
          "base_uri": "https://localhost:8080/"
        },
        "id": "V6sZF9VA7Jmz",
        "outputId": "70586b7e-e6c1-48c1-8af3-3ab173e7c0f8"
      },
      "execution_count": null,
      "outputs": [
        {
          "output_type": "stream",
          "name": "stdout",
          "text": [
            "   userid  spending  age  visits\n",
            "0      31      1499   32      12\n",
            "1      32       799   23      40\n",
            "2      33      1200   45      22\n",
            "3      34         0   59     126\n",
            "4      35      1350   17      85\n"
          ]
        }
      ]
    },
    {
      "cell_type": "code",
      "source": [
        "import scipy.stats\n",
        "print(scipy.stats.ttest_ind(desktop['spending'],laptop['spending']))\n",
        "print(scipy.stats.ttest_ind(desktop['age'],laptop['age']))\n",
        "print(scipy.stats.ttest_ind(desktop['visits'],laptop['visits']))"
      ],
      "metadata": {
        "colab": {
          "base_uri": "https://localhost:8080/"
        },
        "id": "stHJuO227ODV",
        "outputId": "193dd1f3-5710-4107-cdb9-9553de0f979d"
      },
      "execution_count": null,
      "outputs": [
        {
          "output_type": "stream",
          "name": "stdout",
          "text": [
            "TtestResult(statistic=-2.109853741030508, pvalue=0.03919630411621095, df=58.0)\n",
            "TtestResult(statistic=-0.7101437106800108, pvalue=0.4804606394128761, df=58.0)\n",
            "TtestResult(statistic=0.20626752311535543, pvalue=0.8373043059847984, df=58.0)\n"
          ]
        }
      ]
    },
    {
      "cell_type": "code",
      "source": [
        "import numpy as np\n",
        "medianage=np.median(desktop['age'])\n",
        "groupa=desktop.loc[desktop['age']<=medianage,:]\n",
        "groupb=desktop.loc[desktop['age']>medianage,:]"
      ],
      "metadata": {
        "id": "-NvrkPMC7eGj"
      },
      "execution_count": null,
      "outputs": []
    },
    {
      "cell_type": "code",
      "source": [
        "emailresults1=pd.read_csv('emailresults1.csv')"
      ],
      "metadata": {
        "id": "byP8mjHC8kPB"
      },
      "execution_count": null,
      "outputs": []
    },
    {
      "cell_type": "code",
      "source": [
        "print(emailresults1.head())"
      ],
      "metadata": {
        "colab": {
          "base_uri": "https://localhost:8080/"
        },
        "id": "Ovpq-aML8_Pu",
        "outputId": "92a8f96f-2bfc-436b-8974-4db37b26b5f8"
      },
      "execution_count": null,
      "outputs": [
        {
          "output_type": "stream",
          "name": "stdout",
          "text": [
            "   userid  revenue\n",
            "0       1      100\n",
            "1       2        0\n",
            "2       3       50\n",
            "3       4      550\n",
            "4       5      175\n"
          ]
        }
      ]
    },
    {
      "cell_type": "code",
      "source": [
        "groupa_withrevenue=groupa.merge(emailresults1,on='userid')\n",
        "groupb_withrevenue=groupb.merge(emailresults1,on='userid')"
      ],
      "metadata": {
        "id": "Hb-ue7rG9DQO"
      },
      "execution_count": null,
      "outputs": []
    },
    {
      "cell_type": "code",
      "source": [
        "print(scipy.stats.ttest_ind(groupa_withrevenue['revenue'],groupb_withrevenue['revenue']))"
      ],
      "metadata": {
        "colab": {
          "base_uri": "https://localhost:8080/"
        },
        "id": "qWNF3DVI9QbN",
        "outputId": "a1b6b657-d8c8-453c-8fa1-97a3a83d16fd"
      },
      "execution_count": null,
      "outputs": [
        {
          "output_type": "stream",
          "name": "stdout",
          "text": [
            "TtestResult(statistic=-2.186454851070545, pvalue=0.03730073920038287, df=28.0)\n"
          ]
        }
      ]
    },
    {
      "cell_type": "code",
      "source": [
        "print(np.mean(groupb_withrevenue['revenue'])-np.mean(groupa_withrevenue['revenue']))"
      ],
      "metadata": {
        "colab": {
          "base_uri": "https://localhost:8080/"
        },
        "id": "8Tq4E6dF9UZM",
        "outputId": "a9c0d132-06bb-41b6-aa2e-b6f18e538048"
      },
      "execution_count": null,
      "outputs": [
        {
          "output_type": "stream",
          "name": "stdout",
          "text": [
            "125.0\n"
          ]
        }
      ]
    },
    {
      "cell_type": "code",
      "source": [
        "np.random.seed(18811015)\n",
        "laptop.loc[:,'groupassignment1']=1*(np.random.random(len(laptop.index))>0.5)\n",
        "groupc=laptop.loc[laptop['groupassignment1']==0,:].copy()\n",
        "groupd=laptop.loc[laptop['groupassignment1']==1,:].copy()"
      ],
      "metadata": {
        "id": "OXnxhlBB9cKr"
      },
      "execution_count": null,
      "outputs": []
    },
    {
      "cell_type": "code",
      "source": [
        "emailresults2=pd.read_csv('emailresults2.csv')\n",
        "print(emailresults2.head())"
      ],
      "metadata": {
        "colab": {
          "base_uri": "https://localhost:8080/"
        },
        "id": "YwWjcHkb-vEI",
        "outputId": "98ec5d20-ebf6-46c8-8c3e-998b3a6abf0e"
      },
      "execution_count": null,
      "outputs": [
        {
          "output_type": "stream",
          "name": "stdout",
          "text": [
            "   userid  revenue\n",
            "0      31      100\n",
            "1      32        0\n",
            "2      33       50\n",
            "3      34      800\n",
            "4      35       75\n"
          ]
        }
      ]
    },
    {
      "cell_type": "code",
      "source": [
        "groupc_withrevenue=groupc.merge(emailresults2,on='userid')\n",
        "groupd_withrevenue=groupd.merge(emailresults2,on='userid')"
      ],
      "metadata": {
        "id": "cXnp_dW--56Z"
      },
      "execution_count": null,
      "outputs": []
    },
    {
      "cell_type": "code",
      "source": [
        "print(scipy.stats.ttest_ind(groupc_withrevenue['revenue'],groupd_withrevenue['revenue']))"
      ],
      "metadata": {
        "colab": {
          "base_uri": "https://localhost:8080/"
        },
        "id": "8pvOTJ8a-_d4",
        "outputId": "6fe721f0-bbe0-4141-cf88-7ae04f9a9cae"
      },
      "execution_count": null,
      "outputs": [
        {
          "output_type": "stream",
          "name": "stdout",
          "text": [
            "TtestResult(statistic=-2.381320497676198, pvalue=0.024288828555138562, df=28.0)\n"
          ]
        }
      ]
    },
    {
      "cell_type": "code",
      "source": [
        "print(np.mean(groupd_withrevenue['revenue'])-np.mean(groupc_withrevenue['revenue']))"
      ],
      "metadata": {
        "colab": {
          "base_uri": "https://localhost:8080/"
        },
        "id": "-x-6iXVv_CSo",
        "outputId": "4b46d580-87c3-4743-836e-ff3ce66a6f52"
      },
      "execution_count": null,
      "outputs": [
        {
          "output_type": "stream",
          "name": "stdout",
          "text": [
            "260.3333333333333\n"
          ]
        }
      ]
    },
    {
      "cell_type": "code",
      "source": [
        "gdps=[365303000000,65994000000,220000000]\n",
        "print(np.std(gdps))"
      ],
      "metadata": {
        "colab": {
          "base_uri": "https://localhost:8080/"
        },
        "id": "wZHvY9ij_GCn",
        "outputId": "68fccf97-97f7-4407-f43d-533c34382913"
      },
      "execution_count": null,
      "outputs": [
        {
          "output_type": "stream",
          "name": "stdout",
          "text": [
            "158884197328.32672\n"
          ]
        }
      ]
    },
    {
      "cell_type": "code",
      "source": [
        "print(125/np.std(gdps))"
      ],
      "metadata": {
        "colab": {
          "base_uri": "https://localhost:8080/"
        },
        "id": "OdZup3d-_num",
        "outputId": "7326a25f-9ff3-488b-ff5a-455e4f65e37e"
      },
      "execution_count": null,
      "outputs": [
        {
          "output_type": "stream",
          "name": "stdout",
          "text": [
            "7.867365169217765e-10\n"
          ]
        }
      ]
    },
    {
      "cell_type": "code",
      "source": [
        "burgers=[9.0,12.99,10.50]\n",
        "print(np.std(burgers))"
      ],
      "metadata": {
        "colab": {
          "base_uri": "https://localhost:8080/"
        },
        "id": "EKhDP3Cq_6QV",
        "outputId": "3b8f63b0-4921-425b-a997-a5c1d8c878ea"
      },
      "execution_count": null,
      "outputs": [
        {
          "output_type": "stream",
          "name": "stdout",
          "text": [
            "1.6455394252341695\n"
          ]
        }
      ]
    },
    {
      "cell_type": "code",
      "source": [
        "print(125/np.std(burgers))"
      ],
      "metadata": {
        "colab": {
          "base_uri": "https://localhost:8080/"
        },
        "id": "9YziGJBMAGpV",
        "outputId": "f74bc162-70f2-4d97-e03f-3dd5141363bf"
      },
      "execution_count": null,
      "outputs": [
        {
          "output_type": "stream",
          "name": "stdout",
          "text": [
            "75.96293232671214\n"
          ]
        }
      ]
    },
    {
      "cell_type": "code",
      "source": [
        "print(125/np.std(emailresults1['revenue']))"
      ],
      "metadata": {
        "colab": {
          "base_uri": "https://localhost:8080/"
        },
        "id": "NbFMPPTpAK3F",
        "outputId": "cf0898eb-0d8a-49d4-8f2d-3b1bd3fe65b5"
      },
      "execution_count": null,
      "outputs": [
        {
          "output_type": "stream",
          "name": "stdout",
          "text": [
            "0.763769235188029\n"
          ]
        }
      ]
    },
    {
      "cell_type": "code",
      "source": [
        "from statsmodels.stats.power import TTestIndPower\n",
        "alpha=0.05\n",
        "nobs=45\n",
        "effectsize=0.5"
      ],
      "metadata": {
        "id": "-AFgvl_1ATtk"
      },
      "execution_count": null,
      "outputs": []
    },
    {
      "cell_type": "code",
      "source": [
        "analysis = TTestIndPower()\n",
        "power = analysis.solve_power(effect_size=effectsize, nobs1=nobs, alpha=alpha)"
      ],
      "metadata": {
        "id": "hTeqsjfICUdh"
      },
      "execution_count": null,
      "outputs": []
    },
    {
      "cell_type": "code",
      "source": [
        "print(power)"
      ],
      "metadata": {
        "colab": {
          "base_uri": "https://localhost:8080/"
        },
        "id": "i-8mUdEoCijg",
        "outputId": "7a265c25-4fd6-4302-a219-52bf814c6425"
      },
      "execution_count": null,
      "outputs": [
        {
          "output_type": "stream",
          "name": "stdout",
          "text": [
            "0.6501855019775578\n"
          ]
        }
      ]
    },
    {
      "cell_type": "code",
      "source": [
        "analysis = TTestIndPower()\n",
        "alpha = 0.05\n",
        "effect = 0.5\n",
        "power = 0.8\n",
        "observations = analysis.solve_power(effect_size=effect, power=power, alpha=alpha)"
      ],
      "metadata": {
        "id": "gB8OCqfoCltA"
      },
      "execution_count": null,
      "outputs": []
    },
    {
      "cell_type": "code",
      "source": [
        "print(observations)"
      ],
      "metadata": {
        "colab": {
          "base_uri": "https://localhost:8080/"
        },
        "id": "5qaK0A3BC34B",
        "outputId": "7bc9ab8e-1748-4ac6-9952-a78ed4f85766"
      },
      "execution_count": null,
      "outputs": [
        {
          "output_type": "stream",
          "name": "stdout",
          "text": [
            "63.7656117754095\n"
          ]
        }
      ]
    },
    {
      "cell_type": "code",
      "source": [],
      "metadata": {
        "id": "jJmkNvNJC8Jv"
      },
      "execution_count": null,
      "outputs": []
    }
  ]
}