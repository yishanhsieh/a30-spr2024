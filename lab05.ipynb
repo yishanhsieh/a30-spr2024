{
 "cells": [
  {
   "cell_type": "code",
   "execution_count": 9,
   "metadata": {},
   "outputs": [
    {
     "name": "stdout",
     "output_type": "stream",
     "text": [
      "move from start to target\n",
      "move from start to helper\n",
      "move from target to helper\n",
      "move from start to target\n",
      "move from helper to start\n",
      "move from helper to target\n",
      "move from start to target\n"
     ]
    }
   ],
   "source": [
    "# hanoi\n",
    "# https://www.mathsisfun.com/games/towerofhanoi.html\n",
    "\n",
    "def hanoi(n, a, b, c): # n is number of the disk\n",
    "    # a = starting\n",
    "    # b = helper\n",
    "    # c = target\n",
    "    if n == 1:\n",
    "        print('move from', a, 'to', c) # Move the only disk from peg a to peg c\n",
    "    else: #recursive case\n",
    "        hanoi(n-1, a, c, b) # Move the top n-1 disks from peg a to peg b, using peg c as a helper\n",
    "        print('move from', a, 'to', c)  # Move the nth (largest) disk from peg a to peg c\n",
    "        hanoi(n-1, b, a, c) # Move the n-1 disks from peg b to peg c, using peg a as a helpe\n",
    "\n",
    "hanoi(3, 'start', 'helper', 'target')\n",
    "\n",
    "\n",
    "'''\n",
    "hanoi(3, s, h, t)\n",
    "        hanoi(2, s, t, h)\n",
    "            hanoi(1, s, h, t)\n",
    "                print(s--> t)\n",
    "         print(s --> h)\n",
    "            hanoi(1, t, s, h)\n",
    "                print(t--> h)\n",
    "         print(s--> t)\n",
    "    hanoi(2, h, s, t)\n",
    "        hanoi(1, h, t, s)\n",
    "                print(h--> s)\n",
    "      print(h --> t)\n",
    "        hanoi(1, s, h, t)\n",
    "                print(s --> t)\n",
    "'''"
   ]
  },
  {
   "cell_type": "code",
   "execution_count": 19,
   "metadata": {},
   "outputs": [
    {
     "name": "stdout",
     "output_type": "stream",
     "text": [
      "pivot: \u001b[31m58\u001b[0m, list: [35, 5, 58, 70, 39]\n",
      "left: \u001b[32m[35, 5, 39]\u001b[0m, middle: \u001b[31m[58]\u001b[0m, right: \u001b[32m[70]\u001b[0m\n",
      "pivot: \u001b[31m5\u001b[0m, list: [35, 5, 39]\n",
      "left: \u001b[32m[]\u001b[0m, middle: \u001b[31m[5]\u001b[0m, right: \u001b[32m[35, 39]\u001b[0m\n",
      "pivot: \u001b[31m39\u001b[0m, list: [35, 39]\n",
      "left: \u001b[32m[35]\u001b[0m, middle: \u001b[31m[39]\u001b[0m, right: \u001b[32m[]\u001b[0m\n",
      "[5, 35, 39, 58, 70]\n"
     ]
    }
   ],
   "source": [
    "# quick\n",
    "# book,p180: https://legacy.cs.indiana.edu/classes/a310-dgerman/spr2021/readings/polf.pdf\n",
    "\n",
    "import numpy as np\n",
    "from termcolor import colored\n",
    "\n",
    "a = list(np.random.randint(0 , 100, 5)) #randomly pick up 5 integers from 0~100\n",
    "\n",
    "def quicksort(arr):\n",
    "    if len(arr) <= 1:\n",
    "        return arr\n",
    "    else:\n",
    "        pivot = arr[ len(arr) //2]  #pick up the center as the pivot\n",
    "        left, middle, right = [], [], []\n",
    "        print(f\"pivot: {colored(pivot, \"red\")}, list: {arr}\")\n",
    "        for x in arr:\n",
    "            if x < pivot:\n",
    "                left.append(x)\n",
    "            elif x == pivot:\n",
    "                middle.append(x)\n",
    "            elif x > pivot:\n",
    "                right.append(x)\n",
    "        print(f\"left: {colored(left, 'green')}, middle: {colored(middle, 'red')}, right: {colored(right, 'green')}\")\n",
    "        return quicksort(left) + middle + quicksort(right) #concatente sorted list in every recursion.\n",
    "\n",
    "print(quicksort(a))\n"
   ]
  },
  {
   "cell_type": "code",
   "execution_count": null,
   "metadata": {},
   "outputs": [],
   "source": [
    "# regex\n",
    "\n",
    "'''\n",
    "1. If a word starts with a consonant and a vowel, put the first letter of the word at the end of the word and add \"ay\".\n",
    "2. If a word starts with two consonants, move the two consonants to the end of the word and add 'ay.'\n",
    "3. If a word starts with a vowel, add the word 'way' at the end of the word.\n",
    "\n",
    "'''"
   ]
  }
 ],
 "metadata": {
  "kernelspec": {
   "display_name": "Python 3",
   "language": "python",
   "name": "python3"
  },
  "language_info": {
   "codemirror_mode": {
    "name": "ipython",
    "version": 3
   },
   "file_extension": ".py",
   "mimetype": "text/x-python",
   "name": "python",
   "nbconvert_exporter": "python",
   "pygments_lexer": "ipython3",
   "version": "3.12.5"
  }
 },
 "nbformat": 4,
 "nbformat_minor": 2
}
