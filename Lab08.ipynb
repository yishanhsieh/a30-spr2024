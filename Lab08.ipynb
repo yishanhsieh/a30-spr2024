{
  "nbformat": 4,
  "nbformat_minor": 0,
  "metadata": {
    "colab": {
      "provenance": [],
      "include_colab_link": true
    },
    "kernelspec": {
      "name": "python3",
      "display_name": "Python 3"
    },
    "language_info": {
      "name": "python"
    }
  },
  "cells": [
    {
      "cell_type": "markdown",
      "metadata": {
        "id": "view-in-github",
        "colab_type": "text"
      },
      "source": [
        "<a href=\"https://colab.research.google.com/github/yishanhsieh/a30-spr2024/blob/main/Lab08.ipynb\" target=\"_parent\"><img src=\"https://colab.research.google.com/assets/colab-badge.svg\" alt=\"Open In Colab\"/></a>"
      ]
    },
    {
      "cell_type": "markdown",
      "source": [
        "## **Ch 5: Binary Classification**"
      ],
      "metadata": {
        "id": "FEHL_JcH52AW"
      }
    },
    {
      "cell_type": "markdown",
      "source": [
        "\n",
        "\n",
        "---\n",
        "\n",
        "\n",
        "What is regression ?\n",
        "\n",
        "What is classification ?\n",
        "\n",
        "---\n",
        "\n"
      ],
      "metadata": {
        "id": "mwwleIBAEO5u"
      }
    },
    {
      "cell_type": "markdown",
      "source": [
        "What is Binary Classification ?"
      ],
      "metadata": {
        "id": "YRuG7hHeEWnz"
      }
    },
    {
      "cell_type": "code",
      "source": [],
      "metadata": {
        "id": "amyL7ObZ58ta"
      },
      "execution_count": null,
      "outputs": []
    },
    {
      "cell_type": "markdown",
      "source": [
        "First understand the problem we are trying to solve here:\n",
        "\n",
        "The 10,000 client for a company problem (refer book)"
      ],
      "metadata": {
        "id": "U9BnfT9NFlrT"
      }
    },
    {
      "cell_type": "code",
      "source": [
        "import pandas as pd\n",
        "attrition_past=pd.read_csv('https://bradfordtuckfield.com/attrition_past.csv')"
      ],
      "metadata": {
        "id": "ypdy7zsuFp2F"
      },
      "execution_count": null,
      "outputs": []
    },
    {
      "cell_type": "code",
      "source": [
        "print(attrition_past.head())"
      ],
      "metadata": {
        "colab": {
          "base_uri": "https://localhost:8080/"
        },
        "id": "z2wKVCafF7mI",
        "outputId": "44f3e12f-75c5-4576-ddc8-acdf0d62ec0c"
      },
      "execution_count": null,
      "outputs": [
        {
          "output_type": "stream",
          "name": "stdout",
          "text": [
            "  corporation  lastmonth_activity  lastyear_activity  number_of_employees  \\\n",
            "0        abcd                  78               1024                   12   \n",
            "1        asdf                  14               2145                   20   \n",
            "2        xyzz                 182               3891                   35   \n",
            "3        acme                 101              10983                    2   \n",
            "4        qwer                   0                118                   42   \n",
            "\n",
            "   exited  \n",
            "0       1  \n",
            "1       0  \n",
            "2       0  \n",
            "3       1  \n",
            "4       1  \n"
          ]
        }
      ]
    },
    {
      "cell_type": "code",
      "source": [
        "# Plotting Attrition Risk\n",
        "print(attrition_past['exited'].mean())"
      ],
      "metadata": {
        "colab": {
          "base_uri": "https://localhost:8080/"
        },
        "id": "fyKgElzDF9lg",
        "outputId": "2c2c16d8-474a-4460-b21a-aa3ebc9b3ffb"
      },
      "execution_count": null,
      "outputs": [
        {
          "output_type": "stream",
          "name": "stdout",
          "text": [
            "0.5769230769230769\n"
          ]
        }
      ]
    },
    {
      "cell_type": "code",
      "source": [
        "from matplotlib import pyplot as plt\n",
        "plt.scatter(attrition_past['lastmonth_activity'],attrition_past['exited'])\n",
        "plt.title('Historical Attrition')\n",
        "plt.xlabel('Last Month\\'s Activity')\n",
        "plt.ylabel('Attrition')\n",
        "plt.show()"
      ],
      "metadata": {
        "colab": {
          "base_uri": "https://localhost:8080/",
          "height": 472
        },
        "id": "Y-04C-6NHvfI",
        "outputId": "778b88e0-f342-40a2-a591-ed68c346b68c"
      },
      "execution_count": null,
      "outputs": [
        {
          "output_type": "display_data",
          "data": {
            "text/plain": [
              "<Figure size 640x480 with 1 Axes>"
            ],
            "image/png": "[encoded data removed]"
          },
          "metadata": {}
        }
      ]
    },
    {
      "cell_type": "code",
      "source": [
        "# Confirming Relationships with Linear Regression\n",
        "\n",
        "x = attrition_past['lastmonth_activity'].values.reshape(-1,1)\n",
        "y = attrition_past['exited'].values.reshape(-1,1)\n",
        "from sklearn.linear_model import LinearRegression\n",
        "regressor = LinearRegression()\n",
        "regressor.fit(x, y)"
      ],
      "metadata": {
        "colab": {
          "base_uri": "https://localhost:8080/",
          "height": 80
        },
        "id": "8zZbtFdAIDVw",
        "outputId": "403d5fd6-d0f1-4f8f-a6d1-3818f71470d0"
      },
      "execution_count": null,
      "outputs": [
        {
          "output_type": "execute_result",
          "data": {
            "text/plain": [
              "LinearRegression()"
            ],
            "text/html": [
              "<style>#sk-container-id-1 {\n",
              "  /* Definition of color scheme common for light and dark mode */\n",
              "  --sklearn-color-text: black;\n",
              "  --sklearn-color-line: gray;\n",
              "  /* Definition of color scheme for unfitted estimators */\n",
              "  --sklearn-color-unfitted-level-0: #fff5e6;\n",
              "  --sklearn-color-unfitted-level-1: #f6e4d2;\n",
              "  --sklearn-color-unfitted-level-2: #ffe0b3;\n",
              "  --sklearn-color-unfitted-level-3: chocolate;\n",
              "  /* Definition of color scheme for fitted estimators */\n",
              "  --sklearn-color-fitted-level-0: #f0f8ff;\n",
              "  --sklearn-color-fitted-level-1: #d4ebff;\n",
              "  --sklearn-color-fitted-level-2: #b3dbfd;\n",
              "  --sklearn-color-fitted-level-3: cornflowerblue;\n",
              "\n",
              "  /* Specific color for light theme */\n",
              "  --sklearn-color-text-on-default-background: var(--sg-text-color, var(--theme-code-foreground, var(--jp-content-font-color1, black)));\n",
              "  --sklearn-color-background: var(--sg-background-color, var(--theme-background, var(--jp-layout-color0, white)));\n",
              "  --sklearn-color-border-box: var(--sg-text-color, var(--theme-code-foreground, var(--jp-content-font-color1, black)));\n",
              "  --sklearn-color-icon: #696969;\n",
              "\n",
              "  @media (prefers-color-scheme: dark) {\n",
              "    /* Redefinition of color scheme for dark theme */\n",
              "    --sklearn-color-text-on-default-background: var(--sg-text-color, var(--theme-code-foreground, var(--jp-content-font-color1, white)));\n",
              "    --sklearn-color-background: var(--sg-background-color, var(--theme-background, var(--jp-layout-color0, #111)));\n",
              "    --sklearn-color-border-box: var(--sg-text-color, var(--theme-code-foreground, var(--jp-content-font-color1, white)));\n",
              "    --sklearn-color-icon: #878787;\n",
              "  }\n",
              "}\n",
              "\n",
              "#sk-container-id-1 {\n",
              "  color: var(--sklearn-color-text);\n",
              "}\n",
              "\n",
              "#sk-container-id-1 pre {\n",
              "  padding: 0;\n",
              "}\n",
              "\n",
              "#sk-container-id-1 input.sk-hidden--visually {\n",
              "  border: 0;\n",
              "  clip: rect(1px 1px 1px 1px);\n",
              "  clip: rect(1px, 1px, 1px, 1px);\n",
              "  height: 1px;\n",
              "  margin: -1px;\n",
              "  overflow: hidden;\n",
              "  padding: 0;\n",
              "  position: absolute;\n",
              "  width: 1px;\n",
              "}\n",
              "\n",
              "#sk-container-id-1 div.sk-dashed-wrapped {\n",
              "  border: 1px dashed var(--sklearn-color-line);\n",
              "  margin: 0 0.4em 0.5em 0.4em;\n",
              "  box-sizing: border-box;\n",
              "  padding-bottom: 0.4em;\n",
              "  background-color: var(--sklearn-color-background);\n",
              "}\n",
              "\n",
              "#sk-container-id-1 div.sk-container {\n",
              "  /* jupyter's `normalize.less` sets `[hidden] { display: none; }`\n",
              "     but bootstrap.min.css set `[hidden] { display: none !important; }`\n",
              "     so we also need the `!important` here to be able to override the\n",
              "     default hidden behavior on the sphinx rendered scikit-learn.org.\n",
              "     See: https://github.com/scikit-learn/scikit-learn/issues/21755 */\n",
              "  display: inline-block !important;\n",
              "  position: relative;\n",
              "}\n",
              "\n",
              "#sk-container-id-1 div.sk-text-repr-fallback {\n",
              "  display: none;\n",
              "}\n",
              "\n",
              "div.sk-parallel-item,\n",
              "div.sk-serial,\n",
              "div.sk-item {\n",
              "  /* draw centered vertical line to link estimators */\n",
              "  background-image: linear-gradient(var(--sklearn-color-text-on-default-background), var(--sklearn-color-text-on-default-background));\n",
              "  background-size: 2px 100%;\n",
              "  background-repeat: no-repeat;\n",
              "  background-position: center center;\n",
              "}\n",
              "\n",
              "/* Parallel-specific style estimator block */\n",
              "\n",
              "#sk-container-id-1 div.sk-parallel-item::after {\n",
              "  content: \"\";\n",
              "  width: 100%;\n",
              "  border-bottom: 2px solid var(--sklearn-color-text-on-default-background);\n",
              "  flex-grow: 1;\n",
              "}\n",
              "\n",
              "#sk-container-id-1 div.sk-parallel {\n",
              "  display: flex;\n",
              "  align-items: stretch;\n",
              "  justify-content: center;\n",
              "  background-color: var(--sklearn-color-background);\n",
              "  position: relative;\n",
              "}\n",
              "\n",
              "#sk-container-id-1 div.sk-parallel-item {\n",
              "  display: flex;\n",
              "  flex-direction: column;\n",
              "}\n",
              "\n",
              "#sk-container-id-1 div.sk-parallel-item:first-child::after {\n",
              "  align-self: flex-end;\n",
              "  width: 50%;\n",
              "}\n",
              "\n",
              "#sk-container-id-1 div.sk-parallel-item:last-child::after {\n",
              "  align-self: flex-start;\n",
              "  width: 50%;\n",
              "}\n",
              "\n",
              "#sk-container-id-1 div.sk-parallel-item:only-child::after {\n",
              "  width: 0;\n",
              "}\n",
              "\n",
              "/* Serial-specific style estimator block */\n",
              "\n",
              "#sk-container-id-1 div.sk-serial {\n",
              "  display: flex;\n",
              "  flex-direction: column;\n",
              "  align-items: center;\n",
              "  background-color: var(--sklearn-color-background);\n",
              "  padding-right: 1em;\n",
              "  padding-left: 1em;\n",
              "}\n",
              "\n",
              "\n",
              "/* Toggleable style: style used for estimator/Pipeline/ColumnTransformer box that is\n",
              "clickable and can be expanded/collapsed.\n",
              "- Pipeline and ColumnTransformer use this feature and define the default style\n",
              "- Estimators will overwrite some part of the style using the `sk-estimator` class\n",
              "*/\n",
              "\n",
              "/* Pipeline and ColumnTransformer style (default) */\n",
              "\n",
              "#sk-container-id-1 div.sk-toggleable {\n",
              "  /* Default theme specific background. It is overwritten whether we have a\n",
              "  specific estimator or a Pipeline/ColumnTransformer */\n",
              "  background-color: var(--sklearn-color-background);\n",
              "}\n",
              "\n",
              "/* Toggleable label */\n",
              "#sk-container-id-1 label.sk-toggleable__label {\n",
              "  cursor: pointer;\n",
              "  display: block;\n",
              "  width: 100%;\n",
              "  margin-bottom: 0;\n",
              "  padding: 0.5em;\n",
              "  box-sizing: border-box;\n",
              "  text-align: center;\n",
              "}\n",
              "\n",
              "#sk-container-id-1 label.sk-toggleable__label-arrow:before {\n",
              "  /* Arrow on the left of the label */\n",
              "  content: \"▸\";\n",
              "  float: left;\n",
              "  margin-right: 0.25em;\n",
              "  color: var(--sklearn-color-icon);\n",
              "}\n",
              "\n",
              "#sk-container-id-1 label.sk-toggleable__label-arrow:hover:before {\n",
              "  color: var(--sklearn-color-text);\n",
              "}\n",
              "\n",
              "/* Toggleable content - dropdown */\n",
              "\n",
              "#sk-container-id-1 div.sk-toggleable__content {\n",
              "  max-height: 0;\n",
              "  max-width: 0;\n",
              "  overflow: hidden;\n",
              "  text-align: left;\n",
              "  /* unfitted */\n",
              "  background-color: var(--sklearn-color-unfitted-level-0);\n",
              "}\n",
              "\n",
              "#sk-container-id-1 div.sk-toggleable__content.fitted {\n",
              "  /* fitted */\n",
              "  background-color: var(--sklearn-color-fitted-level-0);\n",
              "}\n",
              "\n",
              "#sk-container-id-1 div.sk-toggleable__content pre {\n",
              "  margin: 0.2em;\n",
              "  border-radius: 0.25em;\n",
              "  color: var(--sklearn-color-text);\n",
              "  /* unfitted */\n",
              "  background-color: var(--sklearn-color-unfitted-level-0);\n",
              "}\n",
              "\n",
              "#sk-container-id-1 div.sk-toggleable__content.fitted pre {\n",
              "  /* unfitted */\n",
              "  background-color: var(--sklearn-color-fitted-level-0);\n",
              "}\n",
              "\n",
              "#sk-container-id-1 input.sk-toggleable__control:checked~div.sk-toggleable__content {\n",
              "  /* Expand drop-down */\n",
              "  max-height: 200px;\n",
              "  max-width: 100%;\n",
              "  overflow: auto;\n",
              "}\n",
              "\n",
              "#sk-container-id-1 input.sk-toggleable__control:checked~label.sk-toggleable__label-arrow:before {\n",
              "  content: \"▾\";\n",
              "}\n",
              "\n",
              "/* Pipeline/ColumnTransformer-specific style */\n",
              "\n",
              "#sk-container-id-1 div.sk-label input.sk-toggleable__control:checked~label.sk-toggleable__label {\n",
              "  color: var(--sklearn-color-text);\n",
              "  background-color: var(--sklearn-color-unfitted-level-2);\n",
              "}\n",
              "\n",
              "#sk-container-id-1 div.sk-label.fitted input.sk-toggleable__control:checked~label.sk-toggleable__label {\n",
              "  background-color: var(--sklearn-color-fitted-level-2);\n",
              "}\n",
              "\n",
              "/* Estimator-specific style */\n",
              "\n",
              "/* Colorize estimator box */\n",
              "#sk-container-id-1 div.sk-estimator input.sk-toggleable__control:checked~label.sk-toggleable__label {\n",
              "  /* unfitted */\n",
              "  background-color: var(--sklearn-color-unfitted-level-2);\n",
              "}\n",
              "\n",
              "#sk-container-id-1 div.sk-estimator.fitted input.sk-toggleable__control:checked~label.sk-toggleable__label {\n",
              "  /* fitted */\n",
              "  background-color: var(--sklearn-color-fitted-level-2);\n",
              "}\n",
              "\n",
              "#sk-container-id-1 div.sk-label label.sk-toggleable__label,\n",
              "#sk-container-id-1 div.sk-label label {\n",
              "  /* The background is the default theme color */\n",
              "  color: var(--sklearn-color-text-on-default-background);\n",
              "}\n",
              "\n",
              "/* On hover, darken the color of the background */\n",
              "#sk-container-id-1 div.sk-label:hover label.sk-toggleable__label {\n",
              "  color: var(--sklearn-color-text);\n",
              "  background-color: var(--sklearn-color-unfitted-level-2);\n",
              "}\n",
              "\n",
              "/* Label box, darken color on hover, fitted */\n",
              "#sk-container-id-1 div.sk-label.fitted:hover label.sk-toggleable__label.fitted {\n",
              "  color: var(--sklearn-color-text);\n",
              "  background-color: var(--sklearn-color-fitted-level-2);\n",
              "}\n",
              "\n",
              "/* Estimator label */\n",
              "\n",
              "#sk-container-id-1 div.sk-label label {\n",
              "  font-family: monospace;\n",
              "  font-weight: bold;\n",
              "  display: inline-block;\n",
              "  line-height: 1.2em;\n",
              "}\n",
              "\n",
              "#sk-container-id-1 div.sk-label-container {\n",
              "  text-align: center;\n",
              "}\n",
              "\n",
              "/* Estimator-specific */\n",
              "#sk-container-id-1 div.sk-estimator {\n",
              "  font-family: monospace;\n",
              "  border: 1px dotted var(--sklearn-color-border-box);\n",
              "  border-radius: 0.25em;\n",
              "  box-sizing: border-box;\n",
              "  margin-bottom: 0.5em;\n",
              "  /* unfitted */\n",
              "  background-color: var(--sklearn-color-unfitted-level-0);\n",
              "}\n",
              "\n",
              "#sk-container-id-1 div.sk-estimator.fitted {\n",
              "  /* fitted */\n",
              "  background-color: var(--sklearn-color-fitted-level-0);\n",
              "}\n",
              "\n",
              "/* on hover */\n",
              "#sk-container-id-1 div.sk-estimator:hover {\n",
              "  /* unfitted */\n",
              "  background-color: var(--sklearn-color-unfitted-level-2);\n",
              "}\n",
              "\n",
              "#sk-container-id-1 div.sk-estimator.fitted:hover {\n",
              "  /* fitted */\n",
              "  background-color: var(--sklearn-color-fitted-level-2);\n",
              "}\n",
              "\n",
              "/* Specification for estimator info (e.g. \"i\" and \"?\") */\n",
              "\n",
              "/* Common style for \"i\" and \"?\" */\n",
              "\n",
              ".sk-estimator-doc-link,\n",
              "a:link.sk-estimator-doc-link,\n",
              "a:visited.sk-estimator-doc-link {\n",
              "  float: right;\n",
              "  font-size: smaller;\n",
              "  line-height: 1em;\n",
              "  font-family: monospace;\n",
              "  background-color: var(--sklearn-color-background);\n",
              "  border-radius: 1em;\n",
              "  height: 1em;\n",
              "  width: 1em;\n",
              "  text-decoration: none !important;\n",
              "  margin-left: 1ex;\n",
              "  /* unfitted */\n",
              "  border: var(--sklearn-color-unfitted-level-1) 1pt solid;\n",
              "  color: var(--sklearn-color-unfitted-level-1);\n",
              "}\n",
              "\n",
              ".sk-estimator-doc-link.fitted,\n",
              "a:link.sk-estimator-doc-link.fitted,\n",
              "a:visited.sk-estimator-doc-link.fitted {\n",
              "  /* fitted */\n",
              "  border: var(--sklearn-color-fitted-level-1) 1pt solid;\n",
              "  color: var(--sklearn-color-fitted-level-1);\n",
              "}\n",
              "\n",
              "/* On hover */\n",
              "div.sk-estimator:hover .sk-estimator-doc-link:hover,\n",
              ".sk-estimator-doc-link:hover,\n",
              "div.sk-label-container:hover .sk-estimator-doc-link:hover,\n",
              ".sk-estimator-doc-link:hover {\n",
              "  /* unfitted */\n",
              "  background-color: var(--sklearn-color-unfitted-level-3);\n",
              "  color: var(--sklearn-color-background);\n",
              "  text-decoration: none;\n",
              "}\n",
              "\n",
              "div.sk-estimator.fitted:hover .sk-estimator-doc-link.fitted:hover,\n",
              ".sk-estimator-doc-link.fitted:hover,\n",
              "div.sk-label-container:hover .sk-estimator-doc-link.fitted:hover,\n",
              ".sk-estimator-doc-link.fitted:hover {\n",
              "  /* fitted */\n",
              "  background-color: var(--sklearn-color-fitted-level-3);\n",
              "  color: var(--sklearn-color-background);\n",
              "  text-decoration: none;\n",
              "}\n",
              "\n",
              "/* Span, style for the box shown on hovering the info icon */\n",
              ".sk-estimator-doc-link span {\n",
              "  display: none;\n",
              "  z-index: 9999;\n",
              "  position: relative;\n",
              "  font-weight: normal;\n",
              "  right: .2ex;\n",
              "  padding: .5ex;\n",
              "  margin: .5ex;\n",
              "  width: min-content;\n",
              "  min-width: 20ex;\n",
              "  max-width: 50ex;\n",
              "  color: var(--sklearn-color-text);\n",
              "  box-shadow: 2pt 2pt 4pt #999;\n",
              "  /* unfitted */\n",
              "  background: var(--sklearn-color-unfitted-level-0);\n",
              "  border: .5pt solid var(--sklearn-color-unfitted-level-3);\n",
              "}\n",
              "\n",
              ".sk-estimator-doc-link.fitted span {\n",
              "  /* fitted */\n",
              "  background: var(--sklearn-color-fitted-level-0);\n",
              "  border: var(--sklearn-color-fitted-level-3);\n",
              "}\n",
              "\n",
              ".sk-estimator-doc-link:hover span {\n",
              "  display: block;\n",
              "}\n",
              "\n",
              "/* \"?\"-specific style due to the `<a>` HTML tag */\n",
              "\n",
              "#sk-container-id-1 a.estimator_doc_link {\n",
              "  float: right;\n",
              "  font-size: 1rem;\n",
              "  line-height: 1em;\n",
              "  font-family: monospace;\n",
              "  background-color: var(--sklearn-color-background);\n",
              "  border-radius: 1rem;\n",
              "  height: 1rem;\n",
              "  width: 1rem;\n",
              "  text-decoration: none;\n",
              "  /* unfitted */\n",
              "  color: var(--sklearn-color-unfitted-level-1);\n",
              "  border: var(--sklearn-color-unfitted-level-1) 1pt solid;\n",
              "}\n",
              "\n",
              "#sk-container-id-1 a.estimator_doc_link.fitted {\n",
              "  /* fitted */\n",
              "  border: var(--sklearn-color-fitted-level-1) 1pt solid;\n",
              "  color: var(--sklearn-color-fitted-level-1);\n",
              "}\n",
              "\n",
              "/* On hover */\n",
              "#sk-container-id-1 a.estimator_doc_link:hover {\n",
              "  /* unfitted */\n",
              "  background-color: var(--sklearn-color-unfitted-level-3);\n",
              "  color: var(--sklearn-color-background);\n",
              "  text-decoration: none;\n",
              "}\n",
              "\n",
              "#sk-container-id-1 a.estimator_doc_link.fitted:hover {\n",
              "  /* fitted */\n",
              "  background-color: var(--sklearn-color-fitted-level-3);\n",
              "}\n",
              "</style><div id=\"sk-container-id-1\" class=\"sk-top-container\"><div class=\"sk-text-repr-fallback\"><pre>LinearRegression()</pre><b>In a Jupyter environment, please rerun this cell to show the HTML representation or trust the notebook. <br />On GitHub, the HTML representation is unable to render, please try loading this page with nbviewer.org.</b></div><div class=\"sk-container\" hidden><div class=\"sk-item\"><div class=\"sk-estimator fitted sk-toggleable\"><input class=\"sk-toggleable__control sk-hidden--visually\" id=\"sk-estimator-id-1\" type=\"checkbox\" checked><label for=\"sk-estimator-id-1\" class=\"sk-toggleable__label fitted sk-toggleable__label-arrow fitted\">&nbsp;&nbsp;LinearRegression<a class=\"sk-estimator-doc-link fitted\" rel=\"noreferrer\" target=\"_blank\" href=\"https://scikit-learn.org/1.5/modules/generated/sklearn.linear_model.LinearRegression.html\">?<span>Documentation for LinearRegression</span></a><span class=\"sk-estimator-doc-link fitted\">i<span>Fitted</span></span></label><div class=\"sk-toggleable__content fitted\"><pre>LinearRegression()</pre></div> </div></div></div></div>"
            ]
          },
          "metadata": {},
          "execution_count": 5
        }
      ]
    },
    {
      "cell_type": "code",
      "source": [
        "from matplotlib import pyplot as plt\n",
        "plt.scatter(attrition_past['lastmonth_activity'],attrition_past['exited'])\n",
        "prediction = [regressor.coef_[0]*x+regressor.intercept_[0] for x in \\\n",
        "list(attrition_past['lastmonth_activity'])]\n",
        "plt.plot(attrition_past['lastmonth_activity'], prediction, color='red')\n",
        "plt.title('Historical Attrition')\n",
        "plt.xlabel('Last Month\\'s Activity')\n",
        "plt.ylabel('Attrition')\n",
        "plt.show()"
      ],
      "metadata": {
        "colab": {
          "base_uri": "https://localhost:8080/",
          "height": 472
        },
        "id": "XGWIwnLLIw3o",
        "outputId": "92864bc1-5046-4fa8-d20e-72152f198d2a"
      },
      "execution_count": null,
      "outputs": [
        {
          "output_type": "display_data",
          "data": {
            "text/plain": [
              "<Figure size 640x480 with 1 Axes>"
            ],
            "image/png": "[encoded data removed]"
          },
          "metadata": {}
        }
      ]
    },
    {
      "cell_type": "code",
      "source": [
        "attrition_past['predicted']=regressor.predict(x)"
      ],
      "metadata": {
        "id": "gNMfXACbI75X"
      },
      "execution_count": null,
      "outputs": []
    },
    {
      "cell_type": "code",
      "source": [
        "# Predicting the Future on a new dataset using the patterns we learned from the old one\n",
        "\n",
        "attrition_future=pd.read_csv('http://bradfordtuckfield.com/attrition2.csv')\n",
        "print(attrition_future.head())"
      ],
      "metadata": {
        "colab": {
          "base_uri": "https://localhost:8080/"
        },
        "id": "TYiUG9faONBl",
        "outputId": "0726dcd7-5809-4de9-d6dc-3d6c708488ca"
      },
      "execution_count": null,
      "outputs": [
        {
          "output_type": "stream",
          "name": "stdout",
          "text": [
            "  corporation  lastmonth_activity  lastyear_activity  number_of_employees\n",
            "0        hhtn                 166               1393                   91\n",
            "1        slfm                 824              16920                  288\n",
            "2        pryr                  68                549                   12\n",
            "3        ahva                 121               1491                   16\n",
            "4        dmai                   4                 94                    2\n"
          ]
        }
      ]
    },
    {
      "cell_type": "code",
      "source": [
        "x = attrition_future['lastmonth_activity'].values.reshape(-1,1)\n",
        "attrition_future['predicted']=regressor.predict(x)\n",
        "print(attrition_future.head())"
      ],
      "metadata": {
        "colab": {
          "base_uri": "https://localhost:8080/"
        },
        "id": "yvZJRZ5ZOOG9",
        "outputId": "0f40db73-7216-414d-88d4-34c1b75fc9c1"
      },
      "execution_count": null,
      "outputs": [
        {
          "output_type": "stream",
          "name": "stdout",
          "text": [
            "  corporation  lastmonth_activity  lastyear_activity  number_of_employees  \\\n",
            "0        hhtn                 166               1393                   91   \n",
            "1        slfm                 824              16920                  288   \n",
            "2        pryr                  68                549                   12   \n",
            "3        ahva                 121               1491                   16   \n",
            "4        dmai                   4                 94                    2   \n",
            "\n",
            "   predicted  \n",
            "0   0.576641  \n",
            "1   0.040352  \n",
            "2   0.656514  \n",
            "3   0.613317  \n",
            "4   0.708676  \n"
          ]
        }
      ]
    },
    {
      "cell_type": "code",
      "source": [
        "#create a list of the top 5 highest-risk clients\n",
        "print(attrition_future.nlargest(5,'predicted'))"
      ],
      "metadata": {
        "colab": {
          "base_uri": "https://localhost:8080/"
        },
        "id": "ZViCOvzdO1lE",
        "outputId": "e40f2f58-6eb1-4212-f5d2-85d6f5f1f4df"
      },
      "execution_count": null,
      "outputs": [
        {
          "output_type": "stream",
          "name": "stdout",
          "text": [
            "   corporation  lastmonth_activity  lastyear_activity  number_of_employees  \\\n",
            "8         whsh                   0                 40                   52   \n",
            "12        mike                   0                  0                   49   \n",
            "24        pian                   0                 12                   19   \n",
            "21        bass                   2                 19                 1400   \n",
            "4         dmai                   4                 94                    2   \n",
            "\n",
            "    predicted  \n",
            "8    0.711936  \n",
            "12   0.711936  \n",
            "24   0.711936  \n",
            "21   0.710306  \n",
            "4    0.708676  \n"
          ]
        }
      ]
    },
    {
      "cell_type": "code",
      "source": [
        "#ranked list of every client from highest to lowest attrition probability\n",
        "print(list(attrition_future.sort_values(by='predicted',ascending=False).loc[:,'corporation']))"
      ],
      "metadata": {
        "colab": {
          "base_uri": "https://localhost:8080/"
        },
        "id": "hlBNbUDKPSwr",
        "outputId": "0c12d52d-0364-4fa4-bbe5-871ef14532dd"
      },
      "execution_count": null,
      "outputs": [
        {
          "output_type": "stream",
          "name": "stdout",
          "text": [
            "['whsh', 'pian', 'mike', 'bass', 'pevc', 'dmai', 'ynus', 'kdic', 'hlpd', 'angl', 'erin', 'oscr', 'grce', 'zamk', 'hlly', 'xkcd', 'dwgt', 'pryr', 'skct', 'frgv', 'ejdc', 'ahva', 'wlcj', 'hhtn', 'slfm', 'cred']\n"
          ]
        }
      ]
    },
    {
      "cell_type": "code",
      "source": [
        "#clients whose pre-dicted probabilities are higher than a certain threshold x\n",
        "print(list(attrition_future.loc[attrition_future['predicted']>0.7,'corporation']))"
      ],
      "metadata": {
        "colab": {
          "base_uri": "https://localhost:8080/"
        },
        "id": "jZSzI8FnPjkg",
        "outputId": "cfd37ca0-508e-4c89-e5a2-5a980d27c23b"
      },
      "execution_count": null,
      "outputs": [
        {
          "output_type": "stream",
          "name": "stdout",
          "text": [
            "['dmai', 'whsh', 'oscr', 'kdic', 'mike', 'pevc', 'erin', 'angl', 'bass', 'ynus', 'pian', 'hlpd']\n"
          ]
        }
      ]
    },
    {
      "cell_type": "markdown",
      "source": [
        "---\n",
        "After calculating the probablity for the future predictions we also have to make sure how much our predictions are accurate ?\n",
        "\n",
        "---\n",
        "\n"
      ],
      "metadata": {
        "id": "74ysXov_P_bu"
      }
    },
    {
      "cell_type": "code",
      "source": [
        "#Measuring Prediction Accuracy\n",
        "themedian=attrition_past['predicted'].median()\n",
        "prediction=list(1*(attrition_past['predicted']>themedian))\n",
        "actual=list(attrition_past['exited'])\n",
        "\n",
        "from sklearn.metrics import confusion_matrix\n",
        "print(confusion_matrix(prediction,actual))"
      ],
      "metadata": {
        "colab": {
          "base_uri": "https://localhost:8080/"
        },
        "id": "IBLg74lXP2-V",
        "outputId": "1f04ffa4-ef17-4d94-c0ab-3037ee783a3d"
      },
      "execution_count": null,
      "outputs": [
        {
          "output_type": "stream",
          "name": "stdout",
          "text": [
            "[[7 6]\n",
            " [4 9]]\n"
          ]
        }
      ]
    },
    {
      "cell_type": "markdown",
      "source": [
        "What is precision ?\n",
        "\n",
        "What is recall ?"
      ],
      "metadata": {
        "id": "Zfo3A-s9Rpdb"
      }
    },
    {
      "cell_type": "code",
      "source": [
        "conf_mat = confusion_matrix(prediction,actual)\n",
        "precision = conf_mat[0][0]/(conf_mat[0][0]+conf_mat[0][1])\n",
        "recall = conf_mat[0][0]/(conf_mat[0][0]+conf_mat[1][0])\n",
        "print(precision, recall)"
      ],
      "metadata": {
        "colab": {
          "base_uri": "https://localhost:8080/"
        },
        "id": "5giMQfTRQg6B",
        "outputId": "645606ca-fd23-47e9-8ec3-0888ddd034a0"
      },
      "execution_count": null,
      "outputs": [
        {
          "output_type": "stream",
          "name": "stdout",
          "text": [
            "0.5384615384615384 0.6363636363636364\n"
          ]
        }
      ]
    },
    {
      "cell_type": "code",
      "source": [],
      "metadata": {
        "id": "SczWrDTaSMzU"
      },
      "execution_count": null,
      "outputs": []
    },
    {
      "cell_type": "code",
      "source": [
        "# Using Multivariate LPMs\n",
        "x3 = attrition_past.loc[:,['lastmonth_activity', 'lastyear_activity', 'number_of_employees']].values.reshape(-1,3)\n",
        "y = attrition_past['exited'].values.reshape(-1,1)\n",
        "regressor_multi = LinearRegression()\n",
        "regressor_multi.fit(x3, y)\n",
        "\n",
        "attrition_future['predicted_multi']=regressor_multi.predict(x3)\n",
        "print(attrition_future.nlargest(5,'predicted_multi'))"
      ],
      "metadata": {
        "colab": {
          "base_uri": "https://localhost:8080/"
        },
        "id": "-dLci4KNR32B",
        "outputId": "9c3999fa-00be-4b3a-d4a5-bf40bf8f89a7"
      },
      "execution_count": null,
      "outputs": [
        {
          "output_type": "stream",
          "name": "stdout",
          "text": [
            "   corporation  lastmonth_activity  lastyear_activity  number_of_employees  \\\n",
            "11        ejdc                  95               1005                   61   \n",
            "12        mike                   0                  0                   49   \n",
            "13        pevc                   4                  6                 1686   \n",
            "4         dmai                   4                 94                    2   \n",
            "22        ynus                   9                 90                   12   \n",
            "\n",
            "    predicted  predicted_multi  \n",
            "11   0.634508         0.870000  \n",
            "12   0.711936         0.815677  \n",
            "13   0.708676         0.788110  \n",
            "4    0.708676         0.755625  \n",
            "22   0.704600         0.715362  \n"
          ]
        }
      ]
    },
    {
      "cell_type": "code",
      "source": [
        "print(list(attrition_future.sort_values(by='predicted_multi', ascending=False).loc[:,'corporation']))"
      ],
      "metadata": {
        "colab": {
          "base_uri": "https://localhost:8080/"
        },
        "id": "pgnMB083SN-Y",
        "outputId": "f4e8952a-c450-4d40-8b8d-82080aad3dec"
      },
      "execution_count": null,
      "outputs": [
        {
          "output_type": "stream",
          "name": "stdout",
          "text": [
            "['ejdc', 'mike', 'pevc', 'dmai', 'ynus', 'wlcj', 'angl', 'pian', 'slfm', 'hlpd', 'frgv', 'hlly', 'oscr', 'cred', 'dwgt', 'hhtn', 'whsh', 'grce', 'pryr', 'xkcd', 'bass', 'ahva', 'erin', 'zamk', 'skct', 'kdic']\n"
          ]
        }
      ]
    },
    {
      "cell_type": "code",
      "source": [
        "attrition_future['activity_per_employee']=attrition_future.loc[:,\\\n",
        "'lastmonth_activity']/attrition_future.loc[:,'number_of_employees']\n",
        "\n",
        "attrition_past['activity_per_employee']=attrition_past.loc[:,\\\n",
        "'lastmonth_activity']/attrition_past.loc[:,'number_of_employees']\n",
        "\n",
        "x = attrition_past.loc[:,['activity_per_employee','lastmonth_activity',\\\n",
        "'lastyear_activity', 'number_of_employees']].values.reshape(-1,4)\n",
        "\n",
        "y = attrition_past['exited'].values.reshape(-1,1)\n",
        "\n",
        "regressor_derived= LinearRegression()\n",
        "\n",
        "regressor_derived.fit(x, y)\n",
        "\n",
        "attrition_past['predicted3']=regressor_derived.predict(x)\n",
        "\n",
        "x = attrition_future.loc[:,['activity_per_employee','lastmonth_activity',\\\n",
        "'lastyear_activity', 'number_of_employees']].values.reshape(-1,4)\n",
        "\n",
        "attrition_future['predicted3']=regressor_derived.predict(x)\n",
        "\n",
        "print(list(attrition_future.sort_values(by='predicted3',ascending=False).loc[:,'corporation']))"
      ],
      "metadata": {
        "colab": {
          "base_uri": "https://localhost:8080/"
        },
        "id": "dO2ByHYZS8hX",
        "outputId": "b37d0790-5db3-4222-df6c-48baa48454ad"
      },
      "execution_count": null,
      "outputs": [
        {
          "output_type": "stream",
          "name": "stdout",
          "text": [
            "['pevc', 'bass', 'frgv', 'hlpd', 'angl', 'oscr', 'zamk', 'whsh', 'mike', 'hhtn', 'ejdc', 'grce', 'pian', 'ynus', 'dmai', 'kdic', 'erin', 'slfm', 'dwgt', 'pryr', 'hlly', 'xkcd', 'skct', 'ahva', 'wlcj', 'cred']\n"
          ]
        }
      ]
    },
    {
      "cell_type": "code",
      "source": [
        "themedian=attrition_past['predicted3'].median()\n",
        "prediction=list(1*(attrition_past['predicted3']>themedian))\n",
        "actual=list(attrition_past['exited'])\n",
        "\n",
        "print(confusion_matrix(prediction,actual))\n",
        "\n",
        "conf_mat = confusion_matrix(prediction,actual)\n",
        "precision = conf_mat[0][0]/(conf_mat[0][0]+conf_mat[0][1])\n",
        "recall = conf_mat[0][0]/(conf_mat[0][0]+conf_mat[1][0])\n",
        "print(precision, recall)"
      ],
      "metadata": {
        "colab": {
          "base_uri": "https://localhost:8080/"
        },
        "id": "rymJI8E4T1fi",
        "outputId": "5b9cd165-5e6b-425e-9970-a8e0fdc8fadf"
      },
      "execution_count": null,
      "outputs": [
        {
          "output_type": "stream",
          "name": "stdout",
          "text": [
            "[[ 9  4]\n",
            " [ 2 11]]\n",
            "0.6923076923076923 0.8181818181818182\n"
          ]
        }
      ]
    },
    {
      "cell_type": "code",
      "source": [
        "# Why did we shift to Binary classification (Logistic Regression) ?"
      ],
      "metadata": {
        "id": "z5urVsZyUaGA"
      },
      "execution_count": null,
      "outputs": []
    },
    {
      "cell_type": "markdown",
      "source": [
        "#### **Predicting Binary Outcomes with Logistic Regression**"
      ],
      "metadata": {
        "id": "RAtKOvvnVFPs"
      }
    },
    {
      "cell_type": "code",
      "source": [
        "from matplotlib import pyplot as plt\n",
        "import numpy as np\n",
        "import math\n",
        "\n",
        "x = np.arange(-5, 5, 0.05)\n",
        "y = (1/(1+np.exp(-1-2*x)))\n",
        "plt.plot(x,y)\n",
        "plt.xlabel(\"X\")\n",
        "plt.ylabel(\"Value of Logistic Function\")\n",
        "plt.title('A Logistic Curve')\n",
        "plt.show()"
      ],
      "metadata": {
        "colab": {
          "base_uri": "https://localhost:8080/",
          "height": 472
        },
        "id": "Uxw2elnhVIAy",
        "outputId": "0ffa728c-e692-4538-a3c1-88ac8a4a4324"
      },
      "execution_count": null,
      "outputs": [
        {
          "output_type": "display_data",
          "data": {
            "text/plain": [
              "<Figure size 640x480 with 1 Axes>"
            ],
            "image/png": "[encoded data removed]"
          },
          "metadata": {}
        }
      ]
    },
    {
      "cell_type": "code",
      "source": [
        "from matplotlib import pyplot as plt\n",
        "import numpy as np\n",
        "import math\n",
        "\n",
        "x = np.arange(-5, 5, 0.05)\n",
        "y = (1/(1+np.exp(1+2*x)))\n",
        "plt.plot(x,y)\n",
        "plt.xlabel(\"X\")\n",
        "plt.ylabel(\"Value of Logistic Function\")\n",
        "plt.title('A Logistic Curve')\n",
        "plt.show()"
      ],
      "metadata": {
        "colab": {
          "base_uri": "https://localhost:8080/",
          "height": 472
        },
        "id": "VnSIW5JAVNsT",
        "outputId": "123edec3-3bc5-4b80-f8f8-fbecd79fbd4b"
      },
      "execution_count": null,
      "outputs": [
        {
          "output_type": "display_data",
          "data": {
            "text/plain": [
              "<Figure size 640x480 with 1 Axes>"
            ],
            "image/png": "[encoded data removed]"
          },
          "metadata": {}
        }
      ]
    },
    {
      "cell_type": "code",
      "source": [
        "#Fitting the Logistic Function to Our Data\n",
        "\n",
        "from sklearn.linear_model import LogisticRegression\n",
        "model = LogisticRegression(solver='liblinear', random_state=0)\n",
        "x = attrition_past['lastmonth_activity'].values.reshape(-1,1)\n",
        "y = attrition_past['exited']\n",
        "model.fit(x, y)\n",
        "\n",
        "attrition_past['logisticprediction']=model.predict_proba(x)[:,1]\n",
        "\n",
        "fig = plt.scatter(attrition_past['lastmonth_activity'],attrition_past['exited'], color='blue')\n",
        "attrition_past.sort_values('lastmonth_activity').plot('lastmonth_activity',\\\n",
        "'logisticprediction',ls='--', ax=fig.axes,color='red')\n",
        "\n",
        "plt.title('Logistic Regression for Attrition Predictions')\n",
        "plt.xlabel('Last Month\\'s Activity')\n",
        "plt.ylabel('Attrition (1=Exited)')\n",
        "plt.show()"
      ],
      "metadata": {
        "colab": {
          "base_uri": "https://localhost:8080/",
          "height": 472
        },
        "id": "ET3NNpBnVT7O",
        "outputId": "f546ca04-e5a7-46fe-b588-073a3e39c347"
      },
      "execution_count": null,
      "outputs": [
        {
          "output_type": "display_data",
          "data": {
            "text/plain": [
              "<Figure size 640x480 with 1 Axes>"
            ],
            "image/png": "[encoded data removed]"
          },
          "metadata": {}
        }
      ]
    },
    {
      "cell_type": "code",
      "source": [
        "x = attrition_future['lastmonth_activity'].values.reshape(-1,1)\n",
        "attrition_future['logisticprediction']=model.predict_proba(x)[:,1]\n",
        "print(list(attrition_future.sort_values(by='logisticprediction',\\\n",
        "ascending=False).loc[:,'corporation']))"
      ],
      "metadata": {
        "colab": {
          "base_uri": "https://localhost:8080/"
        },
        "id": "jpzenzUKVdub",
        "outputId": "9b89440b-f8b0-40a4-df4e-1564d0fd8d85"
      },
      "execution_count": null,
      "outputs": [
        {
          "output_type": "stream",
          "name": "stdout",
          "text": [
            "['whsh', 'pian', 'mike', 'bass', 'pevc', 'dmai', 'ynus', 'kdic', 'hlpd', 'angl', 'erin', 'oscr', 'grce', 'zamk', 'hlly', 'xkcd', 'dwgt', 'pryr', 'skct', 'frgv', 'ejdc', 'ahva', 'wlcj', 'hhtn', 'slfm', 'cred']\n"
          ]
        }
      ]
    },
    {
      "cell_type": "markdown",
      "source": [],
      "metadata": {
        "id": "vJrLtRRmLWDu"
      }
    },
    {
      "cell_type": "code",
      "source": [],
      "metadata": {
        "id": "uQifwAEDV4Q6"
      },
      "execution_count": null,
      "outputs": []
    },
    {
      "cell_type": "code",
      "source": [],
      "metadata": {
        "id": "4n33w7Sqlv-5"
      },
      "execution_count": null,
      "outputs": []
    }
  ]
}