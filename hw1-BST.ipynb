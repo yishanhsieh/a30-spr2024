{
 "cells": [
  {
   "cell_type": "markdown",
   "metadata": {},
   "source": [
    "Binary Search Tree\n",
    "\n",
    "- Each node has most 2 children, grow downward\n",
    "- left child contains value LESS than the parent node, right child ... MORE than the parent node.\n",
    "- BST is a fundamental data structure, but the performance may suffer\n",
    "if the tree is unbalanced. There are types of balanced binary search tree \n",
    "that use a set of rules to maintain balance."
   ]
  },
  {
   "cell_type": "code",
   "execution_count": null,
   "metadata": {
    "vscode": {
     "languageId": "plaintext"
    }
   },
   "outputs": [],
   "source": []
  }
 ],
 "metadata": {
  "language_info": {
   "name": "python"
  }
 },
 "nbformat": 4,
 "nbformat_minor": 2
}
